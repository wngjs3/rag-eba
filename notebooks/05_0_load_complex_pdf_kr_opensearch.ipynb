{
 "cells": [
  {
   "cell_type": "markdown",
   "id": "02129bd0-af47-4fd6-91af-81613fc40511",
   "metadata": {},
   "source": [
    "# Preprocessing for complex PDF"
   ]
  },
  {
   "cell_type": "markdown",
   "id": "9334e485-ef50-4ba1-b86e-b6a80c2ee676",
   "metadata": {},
   "source": [
    "## Setting\n",
    " - Auto Reload\n",
    " - path for utils"
   ]
  },
  {
   "cell_type": "code",
   "execution_count": 163,
   "id": "802b9aa2-a15a-46f5-925d-0f89afb2a611",
   "metadata": {
    "tags": []
   },
   "outputs": [
    {
     "name": "stdout",
     "output_type": "stream",
     "text": [
      "python path: / already exists\n",
      "sys.path:  ['/app', '/usr/local/lib/python312.zip', '/usr/local/lib/python3.12', '/usr/local/lib/python3.12/lib-dynload', '', '/usr/local/lib/python3.12/site-packages', '/', '/usr/local/lib/python3.12/site-packages/onnxruntime/transformers', '/usr/local/lib/python3.12/site-packages/onnxruntime/transformers/../tools', '/usr/local/lib/python3.12/site-packages/setuptools/_vendor', '/tmp/tmpnnb5bjvh']\n"
     ]
    }
   ],
   "source": [
    "import sys, os\n",
    "\n",
    "def add_python_path(module_path):\n",
    "    if os.path.abspath(module_path) not in sys.path:\n",
    "        sys.path.append(os.path.abspath(module_path))\n",
    "        print(f\"python path: {os.path.abspath(module_path)} is added\")\n",
    "    else:\n",
    "        print(f\"python path: {os.path.abspath(module_path)} already exists\")\n",
    "    print(\"sys.path: \", sys.path)\n",
    "\n",
    "module_path = \"../../..\"\n",
    "add_python_path(module_path)"
   ]
  },
  {
   "cell_type": "markdown",
   "id": "9508a21d-0d22-4adc-b928-e6c0bccaa9a6",
   "metadata": {},
   "source": [
    "## 1. Create Bedrock client\n",
    "Amazon Bedrock을 API로 활용하기 위한 Client를 설정합니다. "
   ]
  },
  {
   "cell_type": "code",
   "execution_count": 164,
   "id": "1da8e4df-ef07-4cb0-b76b-cc327073425c",
   "metadata": {
    "tags": []
   },
   "outputs": [],
   "source": [
    "import json\n",
    "import boto3\n",
    "from pprint import pprint\n",
    "from src.utils import bedrock, print_ww\n",
    "from src.utils.bedrock import bedrock_info"
   ]
  },
  {
   "cell_type": "markdown",
   "id": "4d5f222a-2cdc-490e-b1e4-43429414dcd9",
   "metadata": {},
   "source": [
    "### ---- ⚠️ Un-comment and edit the below lines as needed for your AWS setup ⚠️ ----\n",
    "- os.environ[\"AWS_DEFAULT_REGION\"] = \"<REGION_NAME>\"  # E.g. \"us-east-1\"\n",
    "- os.environ[\"AWS_PROFILE\"] = \"<YOUR_PROFILE>\"\n",
    "- os.environ[\"BEDROCK_ASSUME_ROLE\"] = \"<YOUR_ROLE_ARN>\"  # E.g. \"arn:aws:...\"\n",
    "- os.environ[\"BEDROCK_ENDPOINT_URL\"] = \"<YOUR_ENDPOINT_URL>\"  # E.g. \"https://...\""
   ]
  },
  {
   "cell_type": "code",
   "execution_count": 165,
   "id": "b10630ae-e48d-4ae3-ae4d-187d5bd232f4",
   "metadata": {
    "tags": []
   },
   "outputs": [
    {
     "name": "stdout",
     "output_type": "stream",
     "text": [
      "Create new client\n",
      "  Using region: ap-northeast-2\n",
      "  Using profile: None\n",
      "boto3 Bedrock client successfully created!\n",
      "bedrock-runtime(https://bedrock-runtime.ap-northeast-2.amazonaws.com)\n",
      "{'Claude-Instant-V1': 'anthropic.claude-instant-v1',\n",
      " 'Claude-V1': 'anthropic.claude-v1',\n",
      " 'Claude-V2': 'anthropic.claude-v2',\n",
      " 'Claude-V2-1': 'anthropic.claude-v2:1',\n",
      " 'Claude-V3-5-Sonnet': 'anthropic.claude-3-5-sonnet-20240620-v1:0',\n",
      " 'Claude-V3-5-V-2-Sonnet': 'anthropic.claude-3-5-sonnet-20241022-v2:0',\n",
      " 'Claude-V3-Haiku': 'anthropic.claude-3-haiku-20240307-v1:0',\n",
      " 'Claude-V3-Opus': 'anthropic.claude-3-sonnet-20240229-v1:0',\n",
      " 'Claude-V3-Sonnet': 'anthropic.claude-3-sonnet-20240229-v1:0',\n",
      " 'Cohere-Embeddings-En': 'cohere.embed-english-v3',\n",
      " 'Cohere-Embeddings-Multilingual': 'cohere.embed-multilingual-v3',\n",
      " 'Command': 'cohere.command-text-v14',\n",
      " 'Command-Light': 'cohere.command-light-text-v14',\n",
      " 'Jurassic-2-Mid': 'ai21.j2-mid-v1',\n",
      " 'Jurassic-2-Ultra': 'ai21.j2-ultra-v1',\n",
      " 'Llama2-13b-Chat': 'meta.llama2-13b-chat-v1',\n",
      " 'Titan-Embeddings-G1': 'amazon.titan-embed-text-v1',\n",
      " 'Titan-Text-Embeddings-V2': 'amazon.titan-embed-text-v2:0',\n",
      " 'Titan-Text-G1': 'amazon.titan-text-express-v1',\n",
      " 'Titan-Text-G1-Express': 'amazon.titan-text-express-v1',\n",
      " 'Titan-Text-G1-Light': 'amazon.titan-text-lite-v1',\n",
      " 'Titan-Text-G1-Premier': 'amazon.titan-text-premier-v1:0'}\n"
     ]
    }
   ],
   "source": [
    "boto3_bedrock = bedrock.get_bedrock_client(\n",
    "    region=\"ap-northeast-2\",\n",
    ")\n",
    "\n",
    "pprint (bedrock_info.get_list_fm_models(verbose=False))"
   ]
  },
  {
   "cell_type": "markdown",
   "id": "c4ecb09e-2662-4cee-8c4b-c4ac9228fe3d",
   "metadata": {},
   "source": [
    "## 2. Titan Embedding v2 및 LLM 인 Claude-v3-sonnet 모델 로딩"
   ]
  },
  {
   "cell_type": "markdown",
   "id": "9f351fdc-ed28-4b00-9150-e755e51932f7",
   "metadata": {
    "tags": []
   },
   "source": [
    "### LLM 로딩 (Claude-v3-sonnet)"
   ]
  },
  {
   "cell_type": "code",
   "execution_count": 166,
   "id": "decf2bc3-a873-4bd6-838b-6ce4cb9fe879",
   "metadata": {
    "tags": []
   },
   "outputs": [],
   "source": [
    "from langchain_aws import ChatBedrock\n",
    "from langchain.callbacks.streaming_stdout import StreamingStdOutCallbackHandler"
   ]
  },
  {
   "cell_type": "code",
   "execution_count": 167,
   "id": "1585f9ee-4de7-4a16-b219-f3bde8d84b79",
   "metadata": {
    "tags": []
   },
   "outputs": [
    {
     "data": {
      "text/plain": [
       "ChatBedrock(callbacks=[<langchain_core.callbacks.streaming_stdout.StreamingStdOutCallbackHandler object at 0x7f3f799782f0>], client=<botocore.client.BedrockRuntime object at 0x7f3f78bfbe90>, aws_access_key_id=SecretStr(''), aws_secret_access_key=SecretStr(''), model_id='anthropic.claude-3-5-sonnet-20240620-v1:0', model_kwargs={'stop_sequences': ['\\n\\nHuman']}, streaming=True, max_tokens=2048)"
      ]
     },
     "execution_count": 167,
     "metadata": {},
     "output_type": "execute_result"
    }
   ],
   "source": [
    "llm_text = ChatBedrock(\n",
    "    model_id=bedrock_info.get_model_id(model_name=\"Claude-V3-5-Sonnet\"),\n",
    "    client=boto3_bedrock,\n",
    "    streaming=True,\n",
    "    callbacks=[StreamingStdOutCallbackHandler()],\n",
    "    model_kwargs={\n",
    "        \"max_tokens\": 2048,\n",
    "        \"stop_sequences\": [\"\\n\\nHuman\"],\n",
    "        # \"temperature\": 0,\n",
    "        # \"top_k\": 350,\n",
    "        # \"top_p\": 0.999\n",
    "    }\n",
    ")\n",
    "llm_text"
   ]
  },
  {
   "cell_type": "markdown",
   "id": "0ba6e5b8-f40f-4bc8-a823-53a280ecea66",
   "metadata": {
    "tags": []
   },
   "source": [
    "### Embedding 모델 선택"
   ]
  },
  {
   "cell_type": "code",
   "execution_count": 168,
   "id": "6cad9168-72e3-4906-8abe-f5a23638cfde",
   "metadata": {
    "tags": []
   },
   "outputs": [],
   "source": [
    "from langchain_aws import BedrockEmbeddings"
   ]
  },
  {
   "cell_type": "code",
   "execution_count": 169,
   "id": "069404eb-4daf-4ff9-aadd-0ef694df22d2",
   "metadata": {
    "tags": []
   },
   "outputs": [
    {
     "name": "stdout",
     "output_type": "stream",
     "text": [
      "Bedrock Embeddings Model Loaded\n"
     ]
    }
   ],
   "source": [
    "llm_emb = BedrockEmbeddings(\n",
    "    client=boto3_bedrock,\n",
    "    model_id=bedrock_info.get_model_id(model_name=\"Titan-Text-Embeddings-V2\")\n",
    ")\n",
    "dimension = 1024 #1536\n",
    "print(\"Bedrock Embeddings Model Loaded\")"
   ]
  },
  {
   "cell_type": "markdown",
   "id": "de224b4a-05ae-4f40-82a4-1109b33ff452",
   "metadata": {},
   "source": [
    "## 3. 데이터 준비 \n",
    "- https://python.langchain.com/docs/integrations/document_loaders/unstructured_file\n",
    "- cleansing: https://unstructured-io.github.io/unstructured/core/cleaning.html"
   ]
  },
  {
   "cell_type": "markdown",
   "id": "91c35df1-4183-4285-bfa7-17bff9fe9169",
   "metadata": {},
   "source": [
    "### Extract Text, Table and Image from documents"
   ]
  },
  {
   "cell_type": "markdown",
   "id": "96566e8f-d364-4954-904a-8a6e6b9b6898",
   "metadata": {
    "tags": []
   },
   "source": [
    "### 3.1 Unstructured.io\n",
    "Unstructured.io를 이용하여 Document로 부터 Text, Table, 그리고 Image를 추출합니다. "
   ]
  },
  {
   "cell_type": "code",
   "execution_count": 170,
   "id": "01fd7d69-23ea-4300-9eea-aa62e2eafd36",
   "metadata": {
    "tags": []
   },
   "outputs": [],
   "source": [
    "import shutil\n",
    "from glob import glob\n",
    "from src.utils.common_utils import to_pickle, load_pickle\n",
    "from unstructured.cleaners.core import clean_bullets, clean_extra_whitespace\n",
    "from langchain_community.document_loaders import UnstructuredFileLoader, UnstructuredAPIFileLoader"
   ]
  },
  {
   "cell_type": "markdown",
   "id": "63ff2661-6363-4f4a-ae53-31061994bbcf",
   "metadata": {
    "tags": []
   },
   "source": [
    "#### Parameters\n",
    "----------\n",
    "- filename\n",
    "    - A string defining the target filename path.\n",
    "- content_type\n",
    "    - A string defining the file content in MIME type\n",
    "- file\n",
    "    - A file-like object using \"rb\" mode --> open(filename, \"rb\").\n",
    "- metadata_filename\n",
    "    - When file is not None, the filename (string) to store in element metadata. E.g. \"foo.txt\"\n",
    "- url\n",
    "    - The url for a remote document. Pass in content_type if you want partition to treat the document as a specific content_type.\n",
    "- include_page_breaks\n",
    "    - If True, the output will include page breaks if the filetype supports it\n",
    "- strategy\n",
    "    - The strategy to use for partitioning PDF/image. Uses a layout detection model if set to 'hi_res', otherwise partition simply extracts the text from the document and processes it.\n",
    "- encoding\n",
    "    - The encoding method used to decode the text input. If None, utf-8 will be used.\n",
    "- headers\n",
    "    - The headers to be used in conjunction with the HTTP request if URL is set.\n",
    "- skip_infer_table_types\n",
    "    - The document types that you want to skip table extraction with.\n",
    "- ssl_verify\n",
    "    - If the URL parameter is set, determines whether or not partition uses SSL verification in the HTTP request.\n",
    "- languages\n",
    "    - The languages present in the document, for use in partitioning and/or OCR. For partitioning <BR>\n",
    "    image or pdf documents with Tesseract, you'll first need to install the appropriate <BR>\n",
    "    Tesseract language pack. For other partitions, language is detected using naive Bayesian <BR>\n",
    "    filter via `langdetect`. Multiple languages indicates text could be in either language. <BR>\n",
    "    Additional Parameters: <BR>\n",
    "        - detect_language_per_element <BR>\n",
    "            - Detect language per element instead of at the document level.\n",
    "    \n",
    "- pdf_infer_table_structure\n",
    "    - If True and strategy=hi_res, any Table Elements extracted from a PDF will include an\n",
    "    additional metadata field, \"text_as_html,\" where the value (string) is a just a\n",
    "    transformation of the data into an HTML <table>.\n",
    "    The \"text\" field for a partitioned Table Element is always present, whether True or False.\n",
    "- extract_images_in_pdf\n",
    "    - Only applicable if `strategy=hi_res`.\n",
    "    If True, any detected images will be saved in the path specified by\n",
    "    'extract_image_block_output_dir' or stored as base64 encoded data within metadata fields.\n",
    "    Deprecation Note: This parameter is marked for deprecation. Future versions will use\n",
    "    'extract_image_block_types' for broader extraction capabilities.\n",
    "- extract_image_block_types\n",
    "    - Only applicable if `strategy=hi_res`.\n",
    "    Images of the element type(s) specified in this list (e.g., [\"Image\", \"Table\"]) will be\n",
    "    saved in the path specified by 'extract_image_block_output_dir' or stored as base64\n",
    "    encoded data within metadata fields.\n",
    "- extract_image_block_to_payload\n",
    "    - Only applicable if `strategy=hi_res`.\n",
    "    If True, images of the element type(s) defined in 'extract_image_block_types' will be\n",
    "    encoded as base64 data and stored in two metadata fields: 'image_base64' and\n",
    "    'image_mime_type'.\n",
    "    This parameter facilitates the inclusion of element data directly within the payload,\n",
    "    especially for web-based applications or APIs.\n",
    "- extract_image_block_output_dir\n",
    "    - Only applicable if `strategy=hi_res` and `extract_image_block_to_payload=False`.\n",
    "    The filesystem path for saving images of the element type(s)\n",
    "    specified in 'extract_image_block_types'.\n",
    "- xml_keep_tags\n",
    "    - If True, will retain the XML tags in the output. Otherwise it will simply extract\n",
    "    the text from within the tags. Only applies to partition_xml.\n",
    "- request_timeout\n",
    "    - The timeout for the HTTP request if URL is set. Defaults to None meaning no timeout and\n",
    "    requests will block indefinitely.\n",
    "- hi_res_model_name\n",
    "    - The layout detection model used when partitioning strategy is set to `hi_res`.\n",
    "    - https://unstructured-io.github.io/unstructured/best_practices/models.html\n",
    "- model_name\n",
    "    - The layout detection model used when partitioning strategy is set to `hi_res`. To be\n",
    "    deprecated in favor of `hi_res_model_name`."
   ]
  },
  {
   "cell_type": "markdown",
   "id": "aa5963db-35f0-458e-b905-c6a3b0a17bf1",
   "metadata": {
    "tags": []
   },
   "source": [
    "**추출할 문서의 위치를 입력합니다.**"
   ]
  },
  {
   "cell_type": "code",
   "execution_count": 171,
   "id": "2a906645-1b52-45c1-98ea-32b4a415d7a3",
   "metadata": {
    "tags": []
   },
   "outputs": [],
   "source": [
    "file_path = \"./data/complex_pdf/school_edu_guide.pdf\""
   ]
  },
  {
   "cell_type": "markdown",
   "id": "c98b2992-37a5-40a5-a6c7-b80acfc05d05",
   "metadata": {
    "tags": []
   },
   "source": [
    "**추출된 이미지가 저장될 위치를 입력합니다.**"
   ]
  },
  {
   "cell_type": "code",
   "execution_count": 172,
   "id": "9e17f8f1-3d94-442d-8cc2-80a1e055c253",
   "metadata": {
    "tags": []
   },
   "outputs": [],
   "source": [
    "image_path = \"./fig\""
   ]
  },
  {
   "cell_type": "code",
   "execution_count": 117,
   "id": "7ab8820a-1906-41c3-a457-1bafe59eac49",
   "metadata": {
    "tags": []
   },
   "outputs": [],
   "source": [
    "if os.path.isdir(image_path): shutil.rmtree(image_path)\n",
    "os.mkdir(image_path)\n",
    "\n",
    "loader = UnstructuredFileLoader(\n",
    "    file_path=file_path,\n",
    "\n",
    "    chunking_strategy = \"by_title\",\n",
    "    mode=\"elements\",\n",
    "\n",
    "    strategy=\"hi_res\",\n",
    "    hi_res_model_name=\"yolox\", #\"detectron2_onnx\", \"yolox\", \"yolox_quantized\"\n",
    "\n",
    "    extract_images_in_pdf=True,\n",
    "    #skip_infer_table_types='[]', # ['pdf', 'jpg', 'png', 'xls', 'xlsx', 'heic']\n",
    "    pdf_infer_table_structure=True, ## enable to get table as html using tabletrasformer\n",
    "\n",
    "    extract_image_block_output_dir=image_path,\n",
    "    extract_image_block_to_payload=False, ## False: to save image\n",
    "\n",
    "    max_characters=4096,\n",
    "    new_after_n_chars=4000,\n",
    "    combine_text_under_n_chars=2000,\n",
    "\n",
    "    languages= [\"kor+eng\"],\n",
    "\n",
    "    post_processors=[clean_bullets, clean_extra_whitespace]\n",
    ")"
   ]
  },
  {
   "cell_type": "code",
   "execution_count": 173,
   "id": "dfd26154-8fd1-41da-aada-84e77af6723b",
   "metadata": {
    "tags": []
   },
   "outputs": [
    {
     "name": "stderr",
     "output_type": "stream",
     "text": [
      "[nltk_data] Downloading package punkt_tab to /root/nltk_data...\n",
      "[nltk_data]   Package punkt_tab is already up-to-date!\n",
      "[nltk_data] Downloading package averaged_perceptron_tagger_eng to\n",
      "[nltk_data]     /root/nltk_data...\n",
      "[nltk_data]   Package averaged_perceptron_tagger_eng is already up-to-\n",
      "[nltk_data]       date!\n"
     ]
    },
    {
     "data": {
      "text/plain": [
       "True"
      ]
     },
     "execution_count": 173,
     "metadata": {},
     "output_type": "execute_result"
    }
   ],
   "source": [
    "import nltk\n",
    "nltk.download('punkt_tab')\n",
    "nltk.download('averaged_perceptron_tagger_eng')"
   ]
  },
  {
   "cell_type": "markdown",
   "id": "89fd1a51-1ff2-45fa-9325-f1614c31afea",
   "metadata": {},
   "source": [
    "**문서 파싱을 시작합니다 (약 10분 소요)**"
   ]
  },
  {
   "cell_type": "code",
   "execution_count": 174,
   "id": "f320a808-c49a-47d3-bb45-4e96ae690606",
   "metadata": {
    "tags": []
   },
   "outputs": [
    {
     "name": "stderr",
     "output_type": "stream",
     "text": [
      "WARNING:unstructured:The pdf_infer_table_structure kwarg is deprecated. Please use skip_infer_table_types instead.\n"
     ]
    },
    {
     "name": "stdout",
     "output_type": "stream",
     "text": [
      "CPU times: user 3min 18s, sys: 3.78 s, total: 3min 22s\n",
      "Wall time: 6min 4s\n"
     ]
    }
   ],
   "source": [
    "%%time\n",
    "docs = loader.load()"
   ]
  },
  {
   "cell_type": "code",
   "execution_count": 175,
   "id": "0420bbc6-f8f7-422b-989f-d583559f38a5",
   "metadata": {
    "tags": []
   },
   "outputs": [],
   "source": [
    "tables, texts = [], []\n",
    "images = glob(os.path.join(image_path, \"*\"))"
   ]
  },
  {
   "cell_type": "code",
   "execution_count": 176,
   "id": "e3ae854b-f608-4c7e-8539-296541f1ea68",
   "metadata": {
    "tags": []
   },
   "outputs": [
    {
     "name": "stdout",
     "output_type": "stream",
     "text": [
      " # texts: 24 \n",
      " # tables: 0 \n",
      " # images: 60\n"
     ]
    }
   ],
   "source": [
    "tables, texts = [], []\n",
    "\n",
    "for doc in docs:\n",
    "\n",
    "    category = doc.metadata[\"category\"]\n",
    "\n",
    "    if category == \"Table\": tables.append(doc)\n",
    "    elif category == \"Image\": images.append(doc)\n",
    "    else: texts.append(doc)\n",
    "    \n",
    "    images = glob(os.path.join(image_path, \"*\"))\n",
    "\n",
    "print (f' # texts: {len(texts)} \\n # tables: {len(tables)} \\n # images: {len(images)}')"
   ]
  },
  {
   "cell_type": "markdown",
   "id": "68630d97-5895-4db2-9c7f-6f2a2c304df0",
   "metadata": {},
   "source": [
    "### 3.2 (Optional) [LlamaParse](https://docs.llamaindex.ai/en/stable/module_guides/loading/connector/llama_parse/) (table parsing)\n",
    "- LlamaParse를 이용하여, 테이블을 파싱합니다. 해당 작업은 **optional**로써 Unstructured.io의 파싱 결과를 보완할 수 있으며, **defalut setting**은 **False** 입니다. \n",
    "- LlamaParse 사용을 위해서는 **API Key가 필요**합니다."
   ]
  },
  {
   "cell_type": "code",
   "execution_count": 177,
   "id": "6104be71-fbf5-432c-9377-502e074ed0e3",
   "metadata": {
    "tags": []
   },
   "outputs": [],
   "source": [
    "table_by_llama_parse = False"
   ]
  },
  {
   "cell_type": "code",
   "execution_count": 122,
   "id": "c4e5dc93-bb19-4052-ab6b-25eb4fe99d9a",
   "metadata": {
    "tags": []
   },
   "outputs": [
    {
     "ename": "ModuleNotFoundError",
     "evalue": "No module named 'llama_parse'",
     "output_type": "error",
     "traceback": [
      "\u001b[0;31m---------------------------------------------------------------------------\u001b[0m",
      "\u001b[0;31mModuleNotFoundError\u001b[0m                       Traceback (most recent call last)",
      "Cell \u001b[0;32mIn[122], line 3\u001b[0m\n\u001b[1;32m      1\u001b[0m \u001b[38;5;28;01mimport\u001b[39;00m \u001b[38;5;21;01mnest_asyncio\u001b[39;00m\n\u001b[1;32m      2\u001b[0m \u001b[38;5;28;01mfrom\u001b[39;00m \u001b[38;5;21;01mdotenv\u001b[39;00m \u001b[38;5;28;01mimport\u001b[39;00m load_dotenv\n\u001b[0;32m----> 3\u001b[0m \u001b[38;5;28;01mfrom\u001b[39;00m \u001b[38;5;21;01mllama_parse\u001b[39;00m \u001b[38;5;28;01mimport\u001b[39;00m LlamaParse\n\u001b[1;32m      4\u001b[0m \u001b[38;5;28;01mfrom\u001b[39;00m \u001b[38;5;21;01mutils\u001b[39;00m\u001b[38;5;21;01m.\u001b[39;00m\u001b[38;5;21;01mcommon_utils\u001b[39;00m \u001b[38;5;28;01mimport\u001b[39;00m to_markdown\n\u001b[1;32m      5\u001b[0m \u001b[38;5;28;01mfrom\u001b[39;00m \u001b[38;5;21;01mlangchain_community\u001b[39;00m\u001b[38;5;21;01m.\u001b[39;00m\u001b[38;5;21;01mdocument_loaders\u001b[39;00m \u001b[38;5;28;01mimport\u001b[39;00m UnstructuredMarkdownLoader\n",
      "\u001b[0;31mModuleNotFoundError\u001b[0m: No module named 'llama_parse'"
     ]
    }
   ],
   "source": [
    "import nest_asyncio\n",
    "from dotenv import load_dotenv\n",
    "from llama_parse import LlamaParse\n",
    "from utils.common_utils import to_markdown\n",
    "from langchain_community.document_loaders import UnstructuredMarkdownLoader"
   ]
  },
  {
   "cell_type": "code",
   "execution_count": null,
   "id": "286a43fe-2a9b-448e-a687-2c5c26e49e14",
   "metadata": {
    "tags": []
   },
   "outputs": [],
   "source": [
    "def api_key():\n",
    "    os.environ[\"LLAMA_CLOUD_API_KEY\"] = \"<your key>\"\n",
    "    nest_asyncio.apply()\n",
    "    load_dotenv()"
   ]
  },
  {
   "cell_type": "code",
   "execution_count": null,
   "id": "6fb3fc2a-7a59-4c02-81dc-be1c0b1ea12f",
   "metadata": {
    "tags": []
   },
   "outputs": [],
   "source": [
    "if table_by_llama_parse:\n",
    "    api_key()\n",
    "    llamaparse_res = LlamaParse(result_type=\"markdown\").load_data(file_path)\n",
    "    \n",
    "    ## Save results as markdown and pickle format\n",
    "    markdown_path = \"./data/complex_pdf/pickle/parsed_llamaparse.md\"\n",
    "    to_pickle(llamaparse_res, \"./data/complex_pdf/pickle/parsed_llamaparse.pkl\")\n",
    "    to_markdown(llamaparse_res[0].get_content('text'), markdown_path)\n",
    "    \n",
    "    ## Load markdown file into Document loader\n",
    "    loader = UnstructuredMarkdownLoader(\n",
    "        file_path=markdown_path,\n",
    "        mode=\"elements\",\n",
    "        chunking_strategy=\"by_title\",\n",
    "        #strategy=\"hi_res\",\n",
    "        max_characters=4096,\n",
    "        new_after_n_chars=4000,\n",
    "        combine_text_under_n_chars=2000,\n",
    "    )\n",
    "    docs_llamaparse = loader.load()\n",
    "    docs_table_llamaparse = [doc for doc in docs_llamaparse if doc.metadata[\"category\"] == \"Table\"]"
   ]
  },
  {
   "cell_type": "markdown",
   "id": "b214d8f2-fc91-4cbb-8dc7-1c2d2b945969",
   "metadata": {},
   "source": [
    "#### Show as markdown"
   ]
  },
  {
   "cell_type": "code",
   "execution_count": null,
   "id": "dd22b988-8cce-4815-ba58-b6ab40ab78e9",
   "metadata": {
    "tags": []
   },
   "outputs": [],
   "source": [
    "from IPython.display import Markdown, display"
   ]
  },
  {
   "cell_type": "code",
   "execution_count": null,
   "id": "2c145e4f-5ccb-4f12-9e5d-becbfc1a1ce7",
   "metadata": {
    "tags": []
   },
   "outputs": [],
   "source": [
    "if table_by_llama_parse:\n",
    "    display(Markdown(markdown_path))"
   ]
  },
  {
   "cell_type": "markdown",
   "id": "dfdf02a0-12f6-43d4-b2f8-b49e72f7ef8e",
   "metadata": {},
   "source": [
    "### 3.3 (Optional) [pyMuPDF](https://pymupdf.readthedocs.io/en/latest/) (table parsing)\n",
    "- PyMuPDF 이용하여, 테이블을 파싱합니다. 해당 작업은 **optional**로써 Unstructured.io의 파싱 결과를 보완할 수 있으며, **defalut setting**은 **False** 입니다. "
   ]
  },
  {
   "cell_type": "code",
   "execution_count": null,
   "id": "b772af44-636f-4e9b-9dc4-02cb3fbd1d53",
   "metadata": {
    "tags": []
   },
   "outputs": [],
   "source": [
    "table_by_pymupdf = False"
   ]
  },
  {
   "cell_type": "code",
   "execution_count": null,
   "id": "8956ee17-8b96-4587-8781-ef99c88ce17d",
   "metadata": {
    "tags": []
   },
   "outputs": [],
   "source": [
    "import fitz\n",
    "from utils.pymupdf import to_markdown_pymupdf"
   ]
  },
  {
   "cell_type": "code",
   "execution_count": null,
   "id": "483468ce-6619-4c97-8515-6d0475a91fec",
   "metadata": {
    "tags": []
   },
   "outputs": [],
   "source": [
    "if table_by_pymupdf:\n",
    "    pymupdf_res = fitz.open(file_path)\n",
    "    md_text = to_markdown_pymupdf(pymupdf_res) # get markdown string for all pages\n",
    "    markdown_path = \"./data/complex_pdf/pickle/parsed_pymupdf.md\"\n",
    "    to_markdown(md_text, markdown_path)\n",
    "\n",
    "    ## Load markdown file into Document loader\n",
    "    loader = UnstructuredMarkdownLoader(\n",
    "        file_path=markdown_path,\n",
    "        mode=\"elements\",\n",
    "        chunking_strategy=\"by_title\",\n",
    "        #strategy=\"hi_res\",\n",
    "        max_characters=4096,\n",
    "        new_after_n_chars=4000,\n",
    "        combine_text_under_n_chars=2000,\n",
    "    )\n",
    "    docs_pymupdf = loader.load()\n",
    "    docs_table_pymupdf = [doc for doc in docs_pymupdf if doc.metadata[\"category\"] == \"Table\"]"
   ]
  },
  {
   "cell_type": "code",
   "execution_count": null,
   "id": "c06683bb-a62c-48f2-92d3-120b72dce7cd",
   "metadata": {
    "tags": []
   },
   "outputs": [],
   "source": [
    "if table_by_pymupdf:\n",
    "    display(Markdown(markdown_path))"
   ]
  },
  {
   "cell_type": "markdown",
   "id": "591669b6-4356-4e53-8fd7-db6ae33da84f",
   "metadata": {},
   "source": [
    "### 3.4 Table as image\n",
    "- Multi-modal LLM을 이용하여, 문서 내 Table을 \"이미지\" 형태로 직접 활용합니다. \n",
    "- 문서 내 Table 파싱과정에서 발생하는 오류를 보완할 수 있습니다. \n",
    "- **default setting**은 **True**이며, LLM은 **Claude 3 모델**을 **활용**해야 합니다. "
   ]
  },
  {
   "cell_type": "code",
   "execution_count": 178,
   "id": "d8edcfbf-118c-437e-be3e-a852b908000c",
   "metadata": {
    "tags": []
   },
   "outputs": [],
   "source": [
    "table_as_image = True"
   ]
  },
  {
   "cell_type": "code",
   "execution_count": 179,
   "id": "eb544cf7-0def-4a87-b79c-3a8c64f79ee0",
   "metadata": {
    "tags": []
   },
   "outputs": [],
   "source": [
    "import cv2\n",
    "import math\n",
    "import base64\n",
    "import numpy as np\n",
    "from pdf2image import convert_from_path"
   ]
  },
  {
   "cell_type": "code",
   "execution_count": 180,
   "id": "63506c02-2510-4c1c-9a6b-4340082b2494",
   "metadata": {
    "tags": []
   },
   "outputs": [],
   "source": [
    "def image_to_base64(image_path):\n",
    "    \n",
    "    with open(image_path, \"rb\") as image_file:\n",
    "        encoded_string = base64.b64encode(image_file.read())\n",
    "        \n",
    "    return encoded_string.decode('utf-8')"
   ]
  },
  {
   "cell_type": "markdown",
   "id": "3debfad8-f53f-4dce-a269-03c134c6d4f6",
   "metadata": {},
   "source": [
    "### Extract and resize (sclae down) images \n",
    "- **Image 데이터를 LLM의 입력으로 활용 시, 이미지의 크기만큼 과금됩니다. 이 과정은 이미지 크기를 줄임으로서, 비용을 절감할 수 있습니다.**\n",
    "- [reference](https://daewoonginfo.blogspot.com/2019/05/opencv-python-resize.html)\n",
    "- [image token]: Claude 3 uses this formula tokens = (width px * height px)/750  to calculate # of input tokens associated with Images (for their Visual capabilities). Images bigger than ~1600 tokens would be scaled down"
   ]
  },
  {
   "cell_type": "code",
   "execution_count": 181,
   "id": "c506da2e-ed7b-47fd-981c-66725d93e9f6",
   "metadata": {
    "tags": []
   },
   "outputs": [
    {
     "name": "stdout",
     "output_type": "stream",
     "text": [
      "pdf page 0, size: (1653, 2337)\n",
      "pdf page 1, size: (1653, 2337)\n",
      "pdf page 2, size: (1653, 2337)\n",
      "pdf page 3, size: (1653, 2337)\n",
      "pdf page 4, size: (1653, 2337)\n",
      "pdf page 5, size: (1653, 2337)\n",
      "pdf page 6, size: (1653, 2337)\n",
      "pdf page 7, size: (1653, 2337)\n",
      "pdf page 8, size: (1653, 2337)\n",
      "pdf page 9, size: (1653, 2337)\n",
      "pdf page 10, size: (1653, 2337)\n",
      "pdf page 11, size: (1653, 2337)\n",
      "pdf page 12, size: (1653, 2337)\n",
      "pdf page 13, size: (1653, 2337)\n",
      "pdf page 14, size: (1653, 2337)\n",
      "pdf page 15, size: (1653, 2337)\n",
      "pdf page 16, size: (1653, 2337)\n",
      "pdf page 17, size: (1653, 2337)\n",
      "pdf page 18, size: (1653, 2337)\n",
      "pdf page 19, size: (1653, 2337)\n",
      "pdf page 20, size: (1653, 2337)\n",
      "pdf page 21, size: (1653, 2337)\n",
      "pdf page 22, size: (1653, 2337)\n",
      "pdf page 23, size: (1653, 2337)\n",
      "pdf page 24, size: (1653, 2337)\n",
      "pdf page 25, size: (1653, 2337)\n",
      "pdf page 26, size: (1653, 2337)\n",
      "pdf page 27, size: (1653, 2337)\n",
      "pdf page 28, size: (1653, 2337)\n",
      "pdf page 29, size: (1653, 2337)\n",
      "pdf page 30, size: (1653, 2337)\n",
      "pdf page 31, size: (1653, 2337)\n",
      "pdf page 32, size: (1653, 2337)\n",
      "pdf page 33, size: (1653, 2337)\n",
      "pdf page 34, size: (1653, 2337)\n",
      "pdf page 35, size: (1653, 2337)\n",
      "pdf page 36, size: (2337, 1653)\n",
      "pdf page 37, size: (1653, 2337)\n",
      "pdf page 38, size: (1653, 2337)\n",
      "pdf page 39, size: (1653, 2337)\n",
      "pdf page 40, size: (1653, 2337)\n",
      "pdf page 41, size: (1653, 2337)\n",
      "pdf page 42, size: (1653, 2337)\n",
      "==\n",
      "images: ['./fig/figure-1-1.jpg', './fig/figure-1-2.jpg', './fig/figure-1-3.jpg', './fig/figure-1-4.jpg', './fig/figure-2-5.jpg', './fig/figure-3-6.jpg', './fig/figure-3-7.jpg', './fig/figure-3-8.jpg', './fig/figure-3-9.jpg', './fig/figure-3-10.jpg', './fig/figure-3-11.jpg', './fig/figure-15-12.jpg', './fig/figure-15-13.jpg', './fig/figure-16-14.jpg', './fig/figure-16-15.jpg', './fig/figure-17-16.jpg', './fig/figure-17-17.jpg', './fig/figure-18-18.jpg', './fig/figure-18-19.jpg', './fig/figure-18-20.jpg', './fig/figure-18-21.jpg', './fig/figure-18-22.jpg', './fig/figure-18-23.jpg', './fig/figure-18-24.jpg', './fig/figure-18-25.jpg', './fig/figure-18-26.jpg', './fig/figure-18-27.jpg', './fig/figure-18-28.jpg', './fig/figure-18-29.jpg', './fig/figure-19-30.jpg', './fig/figure-20-31.jpg', './fig/figure-20-32.jpg', './fig/figure-20-33.jpg', './fig/figure-20-34.jpg', './fig/figure-23-35.jpg', './fig/figure-28-36.jpg', './fig/figure-28-37.jpg', './fig/figure-28-38.jpg', './fig/figure-28-39.jpg', './fig/figure-28-40.jpg', './fig/figure-29-41.jpg', './fig/figure-29-42.jpg', './fig/figure-30-43.jpg', './fig/figure-30-44.jpg', './fig/figure-30-45.jpg', './fig/figure-30-46.jpg', './fig/figure-30-47.jpg', './fig/figure-31-48.jpg', './fig/figure-31-49.jpg', './fig/figure-33-50.jpg', './fig/figure-34-51.jpg', './fig/figure-35-52.jpg', './fig/figure-35-53.jpg', './fig/figure-37-54.jpg', './fig/figure-37-55.jpg', './fig/figure-38-56.jpg', './fig/figure-39-57.jpg', './fig/figure-39-58.jpg', './fig/figure-40-59.jpg', './fig/figure-42-60.jpg']\n"
     ]
    }
   ],
   "source": [
    "if table_as_image:\n",
    "    image_tmp_path = os.path.join(image_path, \"tmp\")\n",
    "    if os.path.isdir(image_tmp_path): shutil.rmtree(image_tmp_path)\n",
    "    os.mkdir(image_tmp_path)\n",
    "    \n",
    "    # from pdf to image\n",
    "    pages = convert_from_path(file_path)\n",
    "    for i, page in enumerate(pages):\n",
    "        print (f'pdf page {i}, size: {page.size}')    \n",
    "        page.save(f'{image_tmp_path}/{str(i+1)}.jpg', \"JPEG\")\n",
    "\n",
    "    print (\"==\")\n",
    "\n",
    "    #table_images = []\n",
    "    for idx, table in enumerate(tables):\n",
    "        points = table.metadata[\"coordinates\"][\"points\"]\n",
    "        page_number = table.metadata[\"page_number\"]\n",
    "        layout_width, layout_height = table.metadata[\"coordinates\"][\"layout_width\"], table.metadata[\"coordinates\"][\"layout_height\"]\n",
    "\n",
    "        img = cv2.imread(f'{image_tmp_path}/{page_number}.jpg')\n",
    "        crop_img = img[math.ceil(points[0][1]):math.ceil(points[1][1]), \\\n",
    "                       math.ceil(points[0][0]):math.ceil(points[3][0])]\n",
    "        table_image_path = f'{image_path}/table-{idx}.jpg'\n",
    "        cv2.imwrite(table_image_path, crop_img)\n",
    "        #table_images.append(table_image_path)\n",
    "\n",
    "        print (f'unstructured width: {layout_width}, height: {layout_height}')\n",
    "        print (f'page_number: {page_number}')\n",
    "        print (\"==\")\n",
    "\n",
    "        width, height, _ = crop_img.shape\n",
    "        image_token = width*height/750\n",
    "        print (f'image: {table_image_path}, shape: {img.shape}, image_token_for_claude3: {image_token}' )\n",
    "\n",
    "        ## Resize image\n",
    "        if image_token > 1500:\n",
    "            resize_img = cv2.resize(img, (0, 0), fx=0.5, fy=0.5, interpolation=cv2.INTER_AREA)\n",
    "            print(\"   - resize_img.shape = {0}\".format(resize_img.shape))\n",
    "            table_image_resize_path = table_image_path.replace(\".jpg\", \"-resize.jpg\")\n",
    "            cv2.imwrite(table_image_resize_path, resize_img)\n",
    "            os.remove(table_image_path)\n",
    "            table_image_path = table_image_resize_path\n",
    "\n",
    "        img_base64 = image_to_base64(table_image_path)\n",
    "        table.metadata[\"image_base64\"] = img_base64\n",
    "\n",
    "    if os.path.isdir(image_tmp_path): shutil.rmtree(image_tmp_path)\n",
    "    #print (f'table_images: {table_images}')\n",
    "    images = glob(os.path.join(image_path, \"*\"))\n",
    "    print (f'images: {images}')"
   ]
  },
  {
   "cell_type": "markdown",
   "id": "fb16fd2a-1983-462d-94d8-4c62e81ef28c",
   "metadata": {
    "tags": []
   },
   "source": [
    "### Summarization of table and image\n",
    "- **Image 및 Table 내용을 text 기반으로 요약합니다.**\n",
    "- **이 과정은 image 및 table 정보를 embedding 기반 모델로 검색 가능하게 합니다.**\n",
    "- BedrockChat with claude3: https://medium.com/@dminhk/building-with-anthropics-claude-3-on-amazon-bedrock-and-langchain-%EF%B8%8F-2b842f9c0ca8"
   ]
  },
  {
   "cell_type": "code",
   "execution_count": 188,
   "id": "dca57b50-b89e-4146-912c-a4fcc75168ee",
   "metadata": {
    "tags": []
   },
   "outputs": [],
   "source": [
    "from langchain.schema import Document\n",
    "from langchain_core.messages import HumanMessage\n",
    "from langchain.schema.output_parser import StrOutputParser\n",
    "from langchain_core.prompts import ChatPromptTemplate, HumanMessagePromptTemplate, SystemMessagePromptTemplate"
   ]
  },
  {
   "cell_type": "code",
   "execution_count": 189,
   "id": "5a6631c9-07cc-4475-9154-22400e59f4ef",
   "metadata": {
    "tags": []
   },
   "outputs": [],
   "source": [
    "system_prompt = \"You are an assistant tasked with describing table and image.\"\n",
    "system_message_template = SystemMessagePromptTemplate.from_template(system_prompt)"
   ]
  },
  {
   "cell_type": "markdown",
   "id": "c1368851-8a18-4b1c-8136-15eabc193298",
   "metadata": {},
   "source": [
    "### For images"
   ]
  },
  {
   "cell_type": "code",
   "execution_count": 190,
   "id": "680fc345-fa61-4635-bb8b-0ea724016cac",
   "metadata": {
    "tags": []
   },
   "outputs": [],
   "source": [
    "import time\n",
    "from PIL import Image\n",
    "from io import BytesIO\n",
    "import matplotlib.pyplot as plt\n",
    "import botocore\n",
    "from src.utils.common_utils import retry"
   ]
  },
  {
   "cell_type": "code",
   "execution_count": 191,
   "id": "12fecb7f-cd5c-45a8-937c-97a73cf02b96",
   "metadata": {
    "tags": []
   },
   "outputs": [],
   "source": [
    "human_prompt = [\n",
    "    {\n",
    "        \"type\": \"image_url\",\n",
    "        \"image_url\": {\n",
    "            \"url\": \"data:image/png;base64,\" + \"{image_base64}\",\n",
    "        },\n",
    "    },\n",
    "    {\n",
    "        \"type\": \"text\",\n",
    "        \"text\": '''\n",
    "                 Given image, give a concise summary.\n",
    "                 Don't insert any XML tag such as <text> and </text> when answering.\n",
    "                 Write in Korean.\n",
    "        '''\n",
    "    },\n",
    "]\n",
    "human_message_template = HumanMessagePromptTemplate.from_template(human_prompt)"
   ]
  },
  {
   "cell_type": "code",
   "execution_count": 192,
   "id": "4a21f1d9-2fee-47b9-a28a-cd48727e98a1",
   "metadata": {
    "tags": []
   },
   "outputs": [],
   "source": [
    "prompt = ChatPromptTemplate.from_messages(\n",
    "    [\n",
    "        system_message_template,\n",
    "        human_message_template\n",
    "    ]\n",
    ")\n",
    "\n",
    "summarize_chain = prompt | llm_text | StrOutputParser()\n",
    "#summarize_chain = {\"image_base64\": lambda x:x} | prompt | llm_text | StrOutputParser()"
   ]
  },
  {
   "cell_type": "code",
   "execution_count": 193,
   "id": "40b847d9-1bb0-41be-a8fd-c1d8cf926a79",
   "metadata": {
    "tags": []
   },
   "outputs": [],
   "source": [
    "img_info = [image_to_base64(img_path) for img_path in images if os.path.basename(img_path).startswith(\"figure\")]"
   ]
  },
  {
   "cell_type": "code",
   "execution_count": 194,
   "id": "ec9e5710-0cb7-4642-a21a-3b78b67f0d2a",
   "metadata": {
    "tags": []
   },
   "outputs": [],
   "source": [
    "@retry(total_try_cnt=5, sleep_in_sec=10, retryable_exceptions=(botocore.exceptions.EventStreamError))\n",
    "def summary_img(summarize_chain, img_base64):\n",
    "\n",
    "    img = Image.open(BytesIO(base64.b64decode(img_base64)))\n",
    "    plt.imshow(img)\n",
    "    plt.show()\n",
    "\n",
    "    summary = summarize_chain.invoke(\n",
    "        {\n",
    "            \"image_base64\": img_base64\n",
    "        }\n",
    "    )\n",
    "\n",
    "    return summary"
   ]
  },
  {
   "cell_type": "code",
   "execution_count": 195,
   "id": "a9d570bf-6397-4e4a-bd95-cbc1543c014a",
   "metadata": {
    "tags": []
   },
   "outputs": [
    {
     "name": "stderr",
     "output_type": "stream",
     "text": [
      "INFO:retry-bedrock-invocation:trying summary_img() [1/5]\n"
     ]
    },
    {
     "data": {
      "image/png": "[encoded data removed]",
      "text/plain": [
       "<Figure size 640x480 with 1 Axes>"
      ]
     },
     "metadata": {},
     "output_type": "display_data"
    },
    {
     "name": "stdout",
     "output_type": "stream",
     "text": [
      "이 이미지는 한국어로 된 학교 행사 안내문처럼 보입니다. 상단에는 귀여운 만화 캐릭터들(꿀벌과 요정 같은 모습)이 그려져 있고, 중앙에는 한글로 된 제목이 있습니다. 그 아래에는 두 명의 어린이 캐릭터가 꽃을 심거나 가꾸는 듯한 모습이 그려져 있으며, 배경에는 사다리와 마을 풍경이 보입니다. 이미지 하단에는 \"일시: 2024년 3월 20일 (수)\"라고 적혀 있어 행사 날짜를 알려주고 있습니다. 전체적으로 봄과 새 학기를 연상시키는 밝고 따뜻한 분위기의 이미지입니다."
     ]
    },
    {
     "name": "stderr",
     "output_type": "stream",
     "text": [
      "INFO:retry-bedrock-invocation:in retry(), summary_img() returned '이 이미지는 한국어로 된 학교 행사 안내문처럼 보입니다. 상단에는 귀여운 만화 캐릭터들(꿀벌과 요정 같은 모습)이 그려져 있고, 중앙에는 한글로 된 제목이 있습니다. 그 아래에는 두 명의 어린이 캐릭터가 꽃을 심거나 가꾸는 듯한 모습이 그려져 있으며, 배경에는 사다리와 마을 풍경이 보입니다. 이미지 하단에는 \"일시: 2024년 3월 20일 (수)\"라고 적혀 있어 행사 날짜를 알려주고 있습니다. 전체적으로 봄과 새 학기를 연상시키는 밝고 따뜻한 분위기의 이미지입니다.'\n",
      "INFO:retry-bedrock-invocation:trying summary_img() [1/5]\n"
     ]
    },
    {
     "name": "stdout",
     "output_type": "stream",
     "text": [
      "\n",
      "==\n",
      "0\n"
     ]
    },
    {
     "data": {
      "image/png": "[encoded data removed]",
      "text/plain": [
       "<Figure size 640x480 with 1 Axes>"
      ]
     },
     "metadata": {},
     "output_type": "display_data"
    },
    {
     "ename": "KeyboardInterrupt",
     "evalue": "",
     "output_type": "error",
     "traceback": [
      "\u001b[0;31m---------------------------------------------------------------------------\u001b[0m",
      "\u001b[0;31mKeyboardInterrupt\u001b[0m                         Traceback (most recent call last)",
      "Cell \u001b[0;32mIn[195], line 3\u001b[0m\n\u001b[1;32m      1\u001b[0m image_summaries \u001b[38;5;241m=\u001b[39m []\n\u001b[1;32m      2\u001b[0m \u001b[38;5;28;01mfor\u001b[39;00m idx, img_base64 \u001b[38;5;129;01min\u001b[39;00m \u001b[38;5;28menumerate\u001b[39m(img_info):\n\u001b[0;32m----> 3\u001b[0m     summary \u001b[38;5;241m=\u001b[39m \u001b[43msummary_img\u001b[49m\u001b[43m(\u001b[49m\u001b[43msummarize_chain\u001b[49m\u001b[43m,\u001b[49m\u001b[43m \u001b[49m\u001b[43mimg_base64\u001b[49m\u001b[43m)\u001b[49m\n\u001b[1;32m      4\u001b[0m     image_summaries\u001b[38;5;241m.\u001b[39mappend(summary)\n\u001b[1;32m      5\u001b[0m     \u001b[38;5;28mprint\u001b[39m (\u001b[38;5;124m\"\u001b[39m\u001b[38;5;130;01m\\n\u001b[39;00m\u001b[38;5;124m==\u001b[39m\u001b[38;5;124m\"\u001b[39m)\n",
      "File \u001b[0;32m/app/src/utils/common_utils.py:20\u001b[0m, in \u001b[0;36mretry.<locals>.decorator.<locals>.wrapper\u001b[0;34m(*args, **kwargs)\u001b[0m\n\u001b[1;32m     17\u001b[0m logger\u001b[38;5;241m.\u001b[39minfo(\u001b[38;5;124mf\u001b[39m\u001b[38;5;124m\"\u001b[39m\u001b[38;5;124mtrying \u001b[39m\u001b[38;5;132;01m{\u001b[39;00mfunc\u001b[38;5;241m.\u001b[39m\u001b[38;5;18m__name__\u001b[39m\u001b[38;5;132;01m}\u001b[39;00m\u001b[38;5;124m() [\u001b[39m\u001b[38;5;132;01m{\u001b[39;00mcnt\u001b[38;5;241m+\u001b[39m\u001b[38;5;241m1\u001b[39m\u001b[38;5;132;01m}\u001b[39;00m\u001b[38;5;124m/\u001b[39m\u001b[38;5;132;01m{\u001b[39;00mtotal_try_cnt\u001b[38;5;132;01m}\u001b[39;00m\u001b[38;5;124m]\u001b[39m\u001b[38;5;124m\"\u001b[39m)\n\u001b[1;32m     19\u001b[0m \u001b[38;5;28;01mtry\u001b[39;00m:\n\u001b[0;32m---> 20\u001b[0m     result \u001b[38;5;241m=\u001b[39m \u001b[43mfunc\u001b[49m\u001b[43m(\u001b[49m\u001b[38;5;241;43m*\u001b[39;49m\u001b[43margs\u001b[49m\u001b[43m,\u001b[49m\u001b[43m \u001b[49m\u001b[38;5;241;43m*\u001b[39;49m\u001b[38;5;241;43m*\u001b[39;49m\u001b[43mkwargs\u001b[49m\u001b[43m)\u001b[49m\n\u001b[1;32m     21\u001b[0m     logger\u001b[38;5;241m.\u001b[39minfo(\u001b[38;5;124mf\u001b[39m\u001b[38;5;124m\"\u001b[39m\u001b[38;5;124min retry(), \u001b[39m\u001b[38;5;132;01m{\u001b[39;00mfunc\u001b[38;5;241m.\u001b[39m\u001b[38;5;18m__name__\u001b[39m\u001b[38;5;132;01m}\u001b[39;00m\u001b[38;5;124m() returned \u001b[39m\u001b[38;5;124m'\u001b[39m\u001b[38;5;132;01m{\u001b[39;00mresult\u001b[38;5;132;01m}\u001b[39;00m\u001b[38;5;124m'\u001b[39m\u001b[38;5;124m\"\u001b[39m)\n\u001b[1;32m     23\u001b[0m     \u001b[38;5;28;01mif\u001b[39;00m result: \u001b[38;5;28;01mreturn\u001b[39;00m result\n",
      "Cell \u001b[0;32mIn[194], line 8\u001b[0m, in \u001b[0;36msummary_img\u001b[0;34m(summarize_chain, img_base64)\u001b[0m\n\u001b[1;32m      5\u001b[0m plt\u001b[38;5;241m.\u001b[39mimshow(img)\n\u001b[1;32m      6\u001b[0m plt\u001b[38;5;241m.\u001b[39mshow()\n\u001b[0;32m----> 8\u001b[0m summary \u001b[38;5;241m=\u001b[39m \u001b[43msummarize_chain\u001b[49m\u001b[38;5;241;43m.\u001b[39;49m\u001b[43minvoke\u001b[49m\u001b[43m(\u001b[49m\n\u001b[1;32m      9\u001b[0m \u001b[43m    \u001b[49m\u001b[43m{\u001b[49m\n\u001b[1;32m     10\u001b[0m \u001b[43m        \u001b[49m\u001b[38;5;124;43m\"\u001b[39;49m\u001b[38;5;124;43mimage_base64\u001b[39;49m\u001b[38;5;124;43m\"\u001b[39;49m\u001b[43m:\u001b[49m\u001b[43m \u001b[49m\u001b[43mimg_base64\u001b[49m\n\u001b[1;32m     11\u001b[0m \u001b[43m    \u001b[49m\u001b[43m}\u001b[49m\n\u001b[1;32m     12\u001b[0m \u001b[43m\u001b[49m\u001b[43m)\u001b[49m\n\u001b[1;32m     14\u001b[0m \u001b[38;5;28;01mreturn\u001b[39;00m summary\n",
      "File \u001b[0;32m/usr/local/lib/python3.12/site-packages/langchain_core/runnables/base.py:3024\u001b[0m, in \u001b[0;36mRunnableSequence.invoke\u001b[0;34m(self, input, config, **kwargs)\u001b[0m\n\u001b[1;32m   3022\u001b[0m             \u001b[38;5;28minput\u001b[39m \u001b[38;5;241m=\u001b[39m context\u001b[38;5;241m.\u001b[39mrun(step\u001b[38;5;241m.\u001b[39minvoke, \u001b[38;5;28minput\u001b[39m, config, \u001b[38;5;241m*\u001b[39m\u001b[38;5;241m*\u001b[39mkwargs)\n\u001b[1;32m   3023\u001b[0m         \u001b[38;5;28;01melse\u001b[39;00m:\n\u001b[0;32m-> 3024\u001b[0m             \u001b[38;5;28minput\u001b[39m \u001b[38;5;241m=\u001b[39m \u001b[43mcontext\u001b[49m\u001b[38;5;241;43m.\u001b[39;49m\u001b[43mrun\u001b[49m\u001b[43m(\u001b[49m\u001b[43mstep\u001b[49m\u001b[38;5;241;43m.\u001b[39;49m\u001b[43minvoke\u001b[49m\u001b[43m,\u001b[49m\u001b[43m \u001b[49m\u001b[38;5;28;43minput\u001b[39;49m\u001b[43m,\u001b[49m\u001b[43m \u001b[49m\u001b[43mconfig\u001b[49m\u001b[43m)\u001b[49m\n\u001b[1;32m   3025\u001b[0m \u001b[38;5;66;03m# finish the root run\u001b[39;00m\n\u001b[1;32m   3026\u001b[0m \u001b[38;5;28;01mexcept\u001b[39;00m \u001b[38;5;167;01mBaseException\u001b[39;00m \u001b[38;5;28;01mas\u001b[39;00m e:\n",
      "File \u001b[0;32m/usr/local/lib/python3.12/site-packages/langchain_core/language_models/chat_models.py:286\u001b[0m, in \u001b[0;36mBaseChatModel.invoke\u001b[0;34m(self, input, config, stop, **kwargs)\u001b[0m\n\u001b[1;32m    275\u001b[0m \u001b[38;5;28;01mdef\u001b[39;00m \u001b[38;5;21minvoke\u001b[39m(\n\u001b[1;32m    276\u001b[0m     \u001b[38;5;28mself\u001b[39m,\n\u001b[1;32m    277\u001b[0m     \u001b[38;5;28minput\u001b[39m: LanguageModelInput,\n\u001b[0;32m   (...)\u001b[0m\n\u001b[1;32m    281\u001b[0m     \u001b[38;5;241m*\u001b[39m\u001b[38;5;241m*\u001b[39mkwargs: Any,\n\u001b[1;32m    282\u001b[0m ) \u001b[38;5;241m-\u001b[39m\u001b[38;5;241m>\u001b[39m BaseMessage:\n\u001b[1;32m    283\u001b[0m     config \u001b[38;5;241m=\u001b[39m ensure_config(config)\n\u001b[1;32m    284\u001b[0m     \u001b[38;5;28;01mreturn\u001b[39;00m cast(\n\u001b[1;32m    285\u001b[0m         ChatGeneration,\n\u001b[0;32m--> 286\u001b[0m         \u001b[38;5;28;43mself\u001b[39;49m\u001b[38;5;241;43m.\u001b[39;49m\u001b[43mgenerate_prompt\u001b[49m\u001b[43m(\u001b[49m\n\u001b[1;32m    287\u001b[0m \u001b[43m            \u001b[49m\u001b[43m[\u001b[49m\u001b[38;5;28;43mself\u001b[39;49m\u001b[38;5;241;43m.\u001b[39;49m\u001b[43m_convert_input\u001b[49m\u001b[43m(\u001b[49m\u001b[38;5;28;43minput\u001b[39;49m\u001b[43m)\u001b[49m\u001b[43m]\u001b[49m\u001b[43m,\u001b[49m\n\u001b[1;32m    288\u001b[0m \u001b[43m            \u001b[49m\u001b[43mstop\u001b[49m\u001b[38;5;241;43m=\u001b[39;49m\u001b[43mstop\u001b[49m\u001b[43m,\u001b[49m\n\u001b[1;32m    289\u001b[0m \u001b[43m            \u001b[49m\u001b[43mcallbacks\u001b[49m\u001b[38;5;241;43m=\u001b[39;49m\u001b[43mconfig\u001b[49m\u001b[38;5;241;43m.\u001b[39;49m\u001b[43mget\u001b[49m\u001b[43m(\u001b[49m\u001b[38;5;124;43m\"\u001b[39;49m\u001b[38;5;124;43mcallbacks\u001b[39;49m\u001b[38;5;124;43m\"\u001b[39;49m\u001b[43m)\u001b[49m\u001b[43m,\u001b[49m\n\u001b[1;32m    290\u001b[0m \u001b[43m            \u001b[49m\u001b[43mtags\u001b[49m\u001b[38;5;241;43m=\u001b[39;49m\u001b[43mconfig\u001b[49m\u001b[38;5;241;43m.\u001b[39;49m\u001b[43mget\u001b[49m\u001b[43m(\u001b[49m\u001b[38;5;124;43m\"\u001b[39;49m\u001b[38;5;124;43mtags\u001b[39;49m\u001b[38;5;124;43m\"\u001b[39;49m\u001b[43m)\u001b[49m\u001b[43m,\u001b[49m\n\u001b[1;32m    291\u001b[0m \u001b[43m            \u001b[49m\u001b[43mmetadata\u001b[49m\u001b[38;5;241;43m=\u001b[39;49m\u001b[43mconfig\u001b[49m\u001b[38;5;241;43m.\u001b[39;49m\u001b[43mget\u001b[49m\u001b[43m(\u001b[49m\u001b[38;5;124;43m\"\u001b[39;49m\u001b[38;5;124;43mmetadata\u001b[39;49m\u001b[38;5;124;43m\"\u001b[39;49m\u001b[43m)\u001b[49m\u001b[43m,\u001b[49m\n\u001b[1;32m    292\u001b[0m \u001b[43m            \u001b[49m\u001b[43mrun_name\u001b[49m\u001b[38;5;241;43m=\u001b[39;49m\u001b[43mconfig\u001b[49m\u001b[38;5;241;43m.\u001b[39;49m\u001b[43mget\u001b[49m\u001b[43m(\u001b[49m\u001b[38;5;124;43m\"\u001b[39;49m\u001b[38;5;124;43mrun_name\u001b[39;49m\u001b[38;5;124;43m\"\u001b[39;49m\u001b[43m)\u001b[49m\u001b[43m,\u001b[49m\n\u001b[1;32m    293\u001b[0m \u001b[43m            \u001b[49m\u001b[43mrun_id\u001b[49m\u001b[38;5;241;43m=\u001b[39;49m\u001b[43mconfig\u001b[49m\u001b[38;5;241;43m.\u001b[39;49m\u001b[43mpop\u001b[49m\u001b[43m(\u001b[49m\u001b[38;5;124;43m\"\u001b[39;49m\u001b[38;5;124;43mrun_id\u001b[39;49m\u001b[38;5;124;43m\"\u001b[39;49m\u001b[43m,\u001b[49m\u001b[43m \u001b[49m\u001b[38;5;28;43;01mNone\u001b[39;49;00m\u001b[43m)\u001b[49m\u001b[43m,\u001b[49m\n\u001b[1;32m    294\u001b[0m \u001b[43m            \u001b[49m\u001b[38;5;241;43m*\u001b[39;49m\u001b[38;5;241;43m*\u001b[39;49m\u001b[43mkwargs\u001b[49m\u001b[43m,\u001b[49m\n\u001b[1;32m    295\u001b[0m \u001b[43m        \u001b[49m\u001b[43m)\u001b[49m\u001b[38;5;241m.\u001b[39mgenerations[\u001b[38;5;241m0\u001b[39m][\u001b[38;5;241m0\u001b[39m],\n\u001b[1;32m    296\u001b[0m     )\u001b[38;5;241m.\u001b[39mmessage\n",
      "File \u001b[0;32m/usr/local/lib/python3.12/site-packages/langchain_core/language_models/chat_models.py:786\u001b[0m, in \u001b[0;36mBaseChatModel.generate_prompt\u001b[0;34m(self, prompts, stop, callbacks, **kwargs)\u001b[0m\n\u001b[1;32m    778\u001b[0m \u001b[38;5;28;01mdef\u001b[39;00m \u001b[38;5;21mgenerate_prompt\u001b[39m(\n\u001b[1;32m    779\u001b[0m     \u001b[38;5;28mself\u001b[39m,\n\u001b[1;32m    780\u001b[0m     prompts: \u001b[38;5;28mlist\u001b[39m[PromptValue],\n\u001b[0;32m   (...)\u001b[0m\n\u001b[1;32m    783\u001b[0m     \u001b[38;5;241m*\u001b[39m\u001b[38;5;241m*\u001b[39mkwargs: Any,\n\u001b[1;32m    784\u001b[0m ) \u001b[38;5;241m-\u001b[39m\u001b[38;5;241m>\u001b[39m LLMResult:\n\u001b[1;32m    785\u001b[0m     prompt_messages \u001b[38;5;241m=\u001b[39m [p\u001b[38;5;241m.\u001b[39mto_messages() \u001b[38;5;28;01mfor\u001b[39;00m p \u001b[38;5;129;01min\u001b[39;00m prompts]\n\u001b[0;32m--> 786\u001b[0m     \u001b[38;5;28;01mreturn\u001b[39;00m \u001b[38;5;28;43mself\u001b[39;49m\u001b[38;5;241;43m.\u001b[39;49m\u001b[43mgenerate\u001b[49m\u001b[43m(\u001b[49m\u001b[43mprompt_messages\u001b[49m\u001b[43m,\u001b[49m\u001b[43m \u001b[49m\u001b[43mstop\u001b[49m\u001b[38;5;241;43m=\u001b[39;49m\u001b[43mstop\u001b[49m\u001b[43m,\u001b[49m\u001b[43m \u001b[49m\u001b[43mcallbacks\u001b[49m\u001b[38;5;241;43m=\u001b[39;49m\u001b[43mcallbacks\u001b[49m\u001b[43m,\u001b[49m\u001b[43m \u001b[49m\u001b[38;5;241;43m*\u001b[39;49m\u001b[38;5;241;43m*\u001b[39;49m\u001b[43mkwargs\u001b[49m\u001b[43m)\u001b[49m\n",
      "File \u001b[0;32m/usr/local/lib/python3.12/site-packages/langchain_core/language_models/chat_models.py:643\u001b[0m, in \u001b[0;36mBaseChatModel.generate\u001b[0;34m(self, messages, stop, callbacks, tags, metadata, run_name, run_id, **kwargs)\u001b[0m\n\u001b[1;32m    641\u001b[0m         \u001b[38;5;28;01mif\u001b[39;00m run_managers:\n\u001b[1;32m    642\u001b[0m             run_managers[i]\u001b[38;5;241m.\u001b[39mon_llm_error(e, response\u001b[38;5;241m=\u001b[39mLLMResult(generations\u001b[38;5;241m=\u001b[39m[]))\n\u001b[0;32m--> 643\u001b[0m         \u001b[38;5;28;01mraise\u001b[39;00m e\n\u001b[1;32m    644\u001b[0m flattened_outputs \u001b[38;5;241m=\u001b[39m [\n\u001b[1;32m    645\u001b[0m     LLMResult(generations\u001b[38;5;241m=\u001b[39m[res\u001b[38;5;241m.\u001b[39mgenerations], llm_output\u001b[38;5;241m=\u001b[39mres\u001b[38;5;241m.\u001b[39mllm_output)  \u001b[38;5;66;03m# type: ignore[list-item]\u001b[39;00m\n\u001b[1;32m    646\u001b[0m     \u001b[38;5;28;01mfor\u001b[39;00m res \u001b[38;5;129;01min\u001b[39;00m results\n\u001b[1;32m    647\u001b[0m ]\n\u001b[1;32m    648\u001b[0m llm_output \u001b[38;5;241m=\u001b[39m \u001b[38;5;28mself\u001b[39m\u001b[38;5;241m.\u001b[39m_combine_llm_outputs([res\u001b[38;5;241m.\u001b[39mllm_output \u001b[38;5;28;01mfor\u001b[39;00m res \u001b[38;5;129;01min\u001b[39;00m results])\n",
      "File \u001b[0;32m/usr/local/lib/python3.12/site-packages/langchain_core/language_models/chat_models.py:633\u001b[0m, in \u001b[0;36mBaseChatModel.generate\u001b[0;34m(self, messages, stop, callbacks, tags, metadata, run_name, run_id, **kwargs)\u001b[0m\n\u001b[1;32m    630\u001b[0m \u001b[38;5;28;01mfor\u001b[39;00m i, m \u001b[38;5;129;01min\u001b[39;00m \u001b[38;5;28menumerate\u001b[39m(messages):\n\u001b[1;32m    631\u001b[0m     \u001b[38;5;28;01mtry\u001b[39;00m:\n\u001b[1;32m    632\u001b[0m         results\u001b[38;5;241m.\u001b[39mappend(\n\u001b[0;32m--> 633\u001b[0m             \u001b[38;5;28;43mself\u001b[39;49m\u001b[38;5;241;43m.\u001b[39;49m\u001b[43m_generate_with_cache\u001b[49m\u001b[43m(\u001b[49m\n\u001b[1;32m    634\u001b[0m \u001b[43m                \u001b[49m\u001b[43mm\u001b[49m\u001b[43m,\u001b[49m\n\u001b[1;32m    635\u001b[0m \u001b[43m                \u001b[49m\u001b[43mstop\u001b[49m\u001b[38;5;241;43m=\u001b[39;49m\u001b[43mstop\u001b[49m\u001b[43m,\u001b[49m\n\u001b[1;32m    636\u001b[0m \u001b[43m                \u001b[49m\u001b[43mrun_manager\u001b[49m\u001b[38;5;241;43m=\u001b[39;49m\u001b[43mrun_managers\u001b[49m\u001b[43m[\u001b[49m\u001b[43mi\u001b[49m\u001b[43m]\u001b[49m\u001b[43m \u001b[49m\u001b[38;5;28;43;01mif\u001b[39;49;00m\u001b[43m \u001b[49m\u001b[43mrun_managers\u001b[49m\u001b[43m \u001b[49m\u001b[38;5;28;43;01melse\u001b[39;49;00m\u001b[43m \u001b[49m\u001b[38;5;28;43;01mNone\u001b[39;49;00m\u001b[43m,\u001b[49m\n\u001b[1;32m    637\u001b[0m \u001b[43m                \u001b[49m\u001b[38;5;241;43m*\u001b[39;49m\u001b[38;5;241;43m*\u001b[39;49m\u001b[43mkwargs\u001b[49m\u001b[43m,\u001b[49m\n\u001b[1;32m    638\u001b[0m \u001b[43m            \u001b[49m\u001b[43m)\u001b[49m\n\u001b[1;32m    639\u001b[0m         )\n\u001b[1;32m    640\u001b[0m     \u001b[38;5;28;01mexcept\u001b[39;00m \u001b[38;5;167;01mBaseException\u001b[39;00m \u001b[38;5;28;01mas\u001b[39;00m e:\n\u001b[1;32m    641\u001b[0m         \u001b[38;5;28;01mif\u001b[39;00m run_managers:\n",
      "File \u001b[0;32m/usr/local/lib/python3.12/site-packages/langchain_core/language_models/chat_models.py:851\u001b[0m, in \u001b[0;36mBaseChatModel._generate_with_cache\u001b[0;34m(self, messages, stop, run_manager, **kwargs)\u001b[0m\n\u001b[1;32m    849\u001b[0m \u001b[38;5;28;01melse\u001b[39;00m:\n\u001b[1;32m    850\u001b[0m     \u001b[38;5;28;01mif\u001b[39;00m inspect\u001b[38;5;241m.\u001b[39msignature(\u001b[38;5;28mself\u001b[39m\u001b[38;5;241m.\u001b[39m_generate)\u001b[38;5;241m.\u001b[39mparameters\u001b[38;5;241m.\u001b[39mget(\u001b[38;5;124m\"\u001b[39m\u001b[38;5;124mrun_manager\u001b[39m\u001b[38;5;124m\"\u001b[39m):\n\u001b[0;32m--> 851\u001b[0m         result \u001b[38;5;241m=\u001b[39m \u001b[38;5;28;43mself\u001b[39;49m\u001b[38;5;241;43m.\u001b[39;49m\u001b[43m_generate\u001b[49m\u001b[43m(\u001b[49m\n\u001b[1;32m    852\u001b[0m \u001b[43m            \u001b[49m\u001b[43mmessages\u001b[49m\u001b[43m,\u001b[49m\u001b[43m \u001b[49m\u001b[43mstop\u001b[49m\u001b[38;5;241;43m=\u001b[39;49m\u001b[43mstop\u001b[49m\u001b[43m,\u001b[49m\u001b[43m \u001b[49m\u001b[43mrun_manager\u001b[49m\u001b[38;5;241;43m=\u001b[39;49m\u001b[43mrun_manager\u001b[49m\u001b[43m,\u001b[49m\u001b[43m \u001b[49m\u001b[38;5;241;43m*\u001b[39;49m\u001b[38;5;241;43m*\u001b[39;49m\u001b[43mkwargs\u001b[49m\n\u001b[1;32m    853\u001b[0m \u001b[43m        \u001b[49m\u001b[43m)\u001b[49m\n\u001b[1;32m    854\u001b[0m     \u001b[38;5;28;01melse\u001b[39;00m:\n\u001b[1;32m    855\u001b[0m         result \u001b[38;5;241m=\u001b[39m \u001b[38;5;28mself\u001b[39m\u001b[38;5;241m.\u001b[39m_generate(messages, stop\u001b[38;5;241m=\u001b[39mstop, \u001b[38;5;241m*\u001b[39m\u001b[38;5;241m*\u001b[39mkwargs)\n",
      "File \u001b[0;32m/usr/local/lib/python3.12/site-packages/langchain_aws/chat_models/bedrock.py:537\u001b[0m, in \u001b[0;36mChatBedrock._generate\u001b[0;34m(self, messages, stop, run_manager, **kwargs)\u001b[0m\n\u001b[1;32m    535\u001b[0m \u001b[38;5;28;01mif\u001b[39;00m provider \u001b[38;5;241m==\u001b[39m \u001b[38;5;124m\"\u001b[39m\u001b[38;5;124manthropic\u001b[39m\u001b[38;5;124m\"\u001b[39m:\n\u001b[1;32m    536\u001b[0m     stream_iter \u001b[38;5;241m=\u001b[39m \u001b[38;5;28mself\u001b[39m\u001b[38;5;241m.\u001b[39m_stream(messages, stop, run_manager, \u001b[38;5;241m*\u001b[39m\u001b[38;5;241m*\u001b[39mkwargs)\n\u001b[0;32m--> 537\u001b[0m     \u001b[38;5;28;01mreturn\u001b[39;00m \u001b[43mgenerate_from_stream\u001b[49m\u001b[43m(\u001b[49m\u001b[43mstream_iter\u001b[49m\u001b[43m)\u001b[49m\n\u001b[1;32m    539\u001b[0m response_metadata: List[Dict[\u001b[38;5;28mstr\u001b[39m, Any]] \u001b[38;5;241m=\u001b[39m []\n\u001b[1;32m    540\u001b[0m \u001b[38;5;28;01mfor\u001b[39;00m chunk \u001b[38;5;129;01min\u001b[39;00m \u001b[38;5;28mself\u001b[39m\u001b[38;5;241m.\u001b[39m_stream(messages, stop, run_manager, \u001b[38;5;241m*\u001b[39m\u001b[38;5;241m*\u001b[39mkwargs):\n",
      "File \u001b[0;32m/usr/local/lib/python3.12/site-packages/langchain_core/language_models/chat_models.py:88\u001b[0m, in \u001b[0;36mgenerate_from_stream\u001b[0;34m(stream)\u001b[0m\n\u001b[1;32m     78\u001b[0m \u001b[38;5;28;01mdef\u001b[39;00m \u001b[38;5;21mgenerate_from_stream\u001b[39m(stream: Iterator[ChatGenerationChunk]) \u001b[38;5;241m-\u001b[39m\u001b[38;5;241m>\u001b[39m ChatResult:\n\u001b[1;32m     79\u001b[0m \u001b[38;5;250m    \u001b[39m\u001b[38;5;124;03m\"\"\"Generate from a stream.\u001b[39;00m\n\u001b[1;32m     80\u001b[0m \n\u001b[1;32m     81\u001b[0m \u001b[38;5;124;03m    Args:\u001b[39;00m\n\u001b[0;32m   (...)\u001b[0m\n\u001b[1;32m     85\u001b[0m \u001b[38;5;124;03m        ChatResult: Chat result.\u001b[39;00m\n\u001b[1;32m     86\u001b[0m \u001b[38;5;124;03m    \"\"\"\u001b[39;00m\n\u001b[0;32m---> 88\u001b[0m     generation \u001b[38;5;241m=\u001b[39m \u001b[38;5;28;43mnext\u001b[39;49m\u001b[43m(\u001b[49m\u001b[43mstream\u001b[49m\u001b[43m,\u001b[49m\u001b[43m \u001b[49m\u001b[38;5;28;43;01mNone\u001b[39;49;00m\u001b[43m)\u001b[49m\n\u001b[1;32m     89\u001b[0m     \u001b[38;5;28;01mif\u001b[39;00m generation:\n\u001b[1;32m     90\u001b[0m         generation \u001b[38;5;241m+\u001b[39m\u001b[38;5;241m=\u001b[39m \u001b[38;5;28mlist\u001b[39m(stream)\n",
      "File \u001b[0;32m/usr/local/lib/python3.12/site-packages/langchain_aws/chat_models/bedrock.py:480\u001b[0m, in \u001b[0;36mChatBedrock._stream\u001b[0;34m(self, messages, stop, run_manager, **kwargs)\u001b[0m\n\u001b[1;32m    475\u001b[0m \u001b[38;5;28;01melse\u001b[39;00m:\n\u001b[1;32m    476\u001b[0m     prompt \u001b[38;5;241m=\u001b[39m ChatPromptAdapter\u001b[38;5;241m.\u001b[39mconvert_messages_to_prompt(\n\u001b[1;32m    477\u001b[0m         provider\u001b[38;5;241m=\u001b[39mprovider, messages\u001b[38;5;241m=\u001b[39mmessages, model\u001b[38;5;241m=\u001b[39m\u001b[38;5;28mself\u001b[39m\u001b[38;5;241m.\u001b[39m_get_model()\n\u001b[1;32m    478\u001b[0m     )\n\u001b[0;32m--> 480\u001b[0m \u001b[43m\u001b[49m\u001b[38;5;28;43;01mfor\u001b[39;49;00m\u001b[43m \u001b[49m\u001b[43mchunk\u001b[49m\u001b[43m \u001b[49m\u001b[38;5;129;43;01min\u001b[39;49;00m\u001b[43m \u001b[49m\u001b[38;5;28;43mself\u001b[39;49m\u001b[38;5;241;43m.\u001b[39;49m\u001b[43m_prepare_input_and_invoke_stream\u001b[49m\u001b[43m(\u001b[49m\n\u001b[1;32m    481\u001b[0m \u001b[43m    \u001b[49m\u001b[43mprompt\u001b[49m\u001b[38;5;241;43m=\u001b[39;49m\u001b[43mprompt\u001b[49m\u001b[43m,\u001b[49m\n\u001b[1;32m    482\u001b[0m \u001b[43m    \u001b[49m\u001b[43msystem\u001b[49m\u001b[38;5;241;43m=\u001b[39;49m\u001b[43msystem\u001b[49m\u001b[43m,\u001b[49m\n\u001b[1;32m    483\u001b[0m \u001b[43m    \u001b[49m\u001b[43mmessages\u001b[49m\u001b[38;5;241;43m=\u001b[39;49m\u001b[43mformatted_messages\u001b[49m\u001b[43m,\u001b[49m\n\u001b[1;32m    484\u001b[0m \u001b[43m    \u001b[49m\u001b[43mstop\u001b[49m\u001b[38;5;241;43m=\u001b[39;49m\u001b[43mstop\u001b[49m\u001b[43m,\u001b[49m\n\u001b[1;32m    485\u001b[0m \u001b[43m    \u001b[49m\u001b[43mrun_manager\u001b[49m\u001b[38;5;241;43m=\u001b[39;49m\u001b[43mrun_manager\u001b[49m\u001b[43m,\u001b[49m\n\u001b[1;32m    486\u001b[0m \u001b[43m    \u001b[49m\u001b[38;5;241;43m*\u001b[39;49m\u001b[38;5;241;43m*\u001b[39;49m\u001b[43mkwargs\u001b[49m\u001b[43m,\u001b[49m\n\u001b[1;32m    487\u001b[0m \u001b[43m\u001b[49m\u001b[43m)\u001b[49m\u001b[43m:\u001b[49m\n\u001b[1;32m    488\u001b[0m \u001b[43m    \u001b[49m\u001b[38;5;28;43;01mif\u001b[39;49;00m\u001b[43m \u001b[49m\u001b[38;5;28;43misinstance\u001b[39;49m\u001b[43m(\u001b[49m\u001b[43mchunk\u001b[49m\u001b[43m,\u001b[49m\u001b[43m \u001b[49m\u001b[43mAIMessageChunk\u001b[49m\u001b[43m)\u001b[49m\u001b[43m:\u001b[49m\n\u001b[1;32m    489\u001b[0m \u001b[43m        \u001b[49m\u001b[43mgeneration_chunk\u001b[49m\u001b[43m \u001b[49m\u001b[38;5;241;43m=\u001b[39;49m\u001b[43m \u001b[49m\u001b[43mChatGenerationChunk\u001b[49m\u001b[43m(\u001b[49m\u001b[43mmessage\u001b[49m\u001b[38;5;241;43m=\u001b[39;49m\u001b[43mchunk\u001b[49m\u001b[43m)\u001b[49m\n",
      "File \u001b[0;32m/usr/local/lib/python3.12/site-packages/langchain_aws/llms/bedrock.py:962\u001b[0m, in \u001b[0;36mBedrockBase._prepare_input_and_invoke_stream\u001b[0;34m(self, prompt, system, messages, stop, run_manager, **kwargs)\u001b[0m\n\u001b[1;32m    959\u001b[0m         request_options[\u001b[38;5;124m\"\u001b[39m\u001b[38;5;124mtrace\u001b[39m\u001b[38;5;124m\"\u001b[39m] \u001b[38;5;241m=\u001b[39m \u001b[38;5;124m\"\u001b[39m\u001b[38;5;124mENABLED\u001b[39m\u001b[38;5;124m\"\u001b[39m\n\u001b[1;32m    961\u001b[0m \u001b[38;5;28;01mtry\u001b[39;00m:\n\u001b[0;32m--> 962\u001b[0m     response \u001b[38;5;241m=\u001b[39m \u001b[38;5;28;43mself\u001b[39;49m\u001b[38;5;241;43m.\u001b[39;49m\u001b[43mclient\u001b[49m\u001b[38;5;241;43m.\u001b[39;49m\u001b[43minvoke_model_with_response_stream\u001b[49m\u001b[43m(\u001b[49m\u001b[38;5;241;43m*\u001b[39;49m\u001b[38;5;241;43m*\u001b[39;49m\u001b[43mrequest_options\u001b[49m\u001b[43m)\u001b[49m\n\u001b[1;32m    964\u001b[0m \u001b[38;5;28;01mexcept\u001b[39;00m \u001b[38;5;167;01mException\u001b[39;00m \u001b[38;5;28;01mas\u001b[39;00m e:\n\u001b[1;32m    965\u001b[0m     logging\u001b[38;5;241m.\u001b[39merror(\u001b[38;5;124mf\u001b[39m\u001b[38;5;124m\"\u001b[39m\u001b[38;5;124mError raised by bedrock service: \u001b[39m\u001b[38;5;132;01m{\u001b[39;00me\u001b[38;5;132;01m}\u001b[39;00m\u001b[38;5;124m\"\u001b[39m)\n",
      "File \u001b[0;32m/usr/local/lib/python3.12/site-packages/botocore/client.py:569\u001b[0m, in \u001b[0;36mClientCreator._create_api_method.<locals>._api_call\u001b[0;34m(self, *args, **kwargs)\u001b[0m\n\u001b[1;32m    565\u001b[0m     \u001b[38;5;28;01mraise\u001b[39;00m \u001b[38;5;167;01mTypeError\u001b[39;00m(\n\u001b[1;32m    566\u001b[0m         \u001b[38;5;124mf\u001b[39m\u001b[38;5;124m\"\u001b[39m\u001b[38;5;132;01m{\u001b[39;00mpy_operation_name\u001b[38;5;132;01m}\u001b[39;00m\u001b[38;5;124m() only accepts keyword arguments.\u001b[39m\u001b[38;5;124m\"\u001b[39m\n\u001b[1;32m    567\u001b[0m     )\n\u001b[1;32m    568\u001b[0m \u001b[38;5;66;03m# The \"self\" in this scope is referring to the BaseClient.\u001b[39;00m\n\u001b[0;32m--> 569\u001b[0m \u001b[38;5;28;01mreturn\u001b[39;00m \u001b[38;5;28;43mself\u001b[39;49m\u001b[38;5;241;43m.\u001b[39;49m\u001b[43m_make_api_call\u001b[49m\u001b[43m(\u001b[49m\u001b[43moperation_name\u001b[49m\u001b[43m,\u001b[49m\u001b[43m \u001b[49m\u001b[43mkwargs\u001b[49m\u001b[43m)\u001b[49m\n",
      "File \u001b[0;32m/usr/local/lib/python3.12/site-packages/botocore/client.py:1005\u001b[0m, in \u001b[0;36mBaseClient._make_api_call\u001b[0;34m(self, operation_name, api_params)\u001b[0m\n\u001b[1;32m   1001\u001b[0m     maybe_compress_request(\n\u001b[1;32m   1002\u001b[0m         \u001b[38;5;28mself\u001b[39m\u001b[38;5;241m.\u001b[39mmeta\u001b[38;5;241m.\u001b[39mconfig, request_dict, operation_model\n\u001b[1;32m   1003\u001b[0m     )\n\u001b[1;32m   1004\u001b[0m     apply_request_checksum(request_dict)\n\u001b[0;32m-> 1005\u001b[0m     http, parsed_response \u001b[38;5;241m=\u001b[39m \u001b[38;5;28;43mself\u001b[39;49m\u001b[38;5;241;43m.\u001b[39;49m\u001b[43m_make_request\u001b[49m\u001b[43m(\u001b[49m\n\u001b[1;32m   1006\u001b[0m \u001b[43m        \u001b[49m\u001b[43moperation_model\u001b[49m\u001b[43m,\u001b[49m\u001b[43m \u001b[49m\u001b[43mrequest_dict\u001b[49m\u001b[43m,\u001b[49m\u001b[43m \u001b[49m\u001b[43mrequest_context\u001b[49m\n\u001b[1;32m   1007\u001b[0m \u001b[43m    \u001b[49m\u001b[43m)\u001b[49m\n\u001b[1;32m   1009\u001b[0m \u001b[38;5;28mself\u001b[39m\u001b[38;5;241m.\u001b[39mmeta\u001b[38;5;241m.\u001b[39mevents\u001b[38;5;241m.\u001b[39memit(\n\u001b[1;32m   1010\u001b[0m     \u001b[38;5;124mf\u001b[39m\u001b[38;5;124m'\u001b[39m\u001b[38;5;124mafter-call.\u001b[39m\u001b[38;5;132;01m{\u001b[39;00mservice_id\u001b[38;5;132;01m}\u001b[39;00m\u001b[38;5;124m.\u001b[39m\u001b[38;5;132;01m{\u001b[39;00moperation_name\u001b[38;5;132;01m}\u001b[39;00m\u001b[38;5;124m'\u001b[39m,\n\u001b[1;32m   1011\u001b[0m     http_response\u001b[38;5;241m=\u001b[39mhttp,\n\u001b[0;32m   (...)\u001b[0m\n\u001b[1;32m   1014\u001b[0m     context\u001b[38;5;241m=\u001b[39mrequest_context,\n\u001b[1;32m   1015\u001b[0m )\n\u001b[1;32m   1017\u001b[0m \u001b[38;5;28;01mif\u001b[39;00m http\u001b[38;5;241m.\u001b[39mstatus_code \u001b[38;5;241m>\u001b[39m\u001b[38;5;241m=\u001b[39m \u001b[38;5;241m300\u001b[39m:\n",
      "File \u001b[0;32m/usr/local/lib/python3.12/site-packages/botocore/client.py:1029\u001b[0m, in \u001b[0;36mBaseClient._make_request\u001b[0;34m(self, operation_model, request_dict, request_context)\u001b[0m\n\u001b[1;32m   1027\u001b[0m \u001b[38;5;28;01mdef\u001b[39;00m \u001b[38;5;21m_make_request\u001b[39m(\u001b[38;5;28mself\u001b[39m, operation_model, request_dict, request_context):\n\u001b[1;32m   1028\u001b[0m     \u001b[38;5;28;01mtry\u001b[39;00m:\n\u001b[0;32m-> 1029\u001b[0m         \u001b[38;5;28;01mreturn\u001b[39;00m \u001b[38;5;28;43mself\u001b[39;49m\u001b[38;5;241;43m.\u001b[39;49m\u001b[43m_endpoint\u001b[49m\u001b[38;5;241;43m.\u001b[39;49m\u001b[43mmake_request\u001b[49m\u001b[43m(\u001b[49m\u001b[43moperation_model\u001b[49m\u001b[43m,\u001b[49m\u001b[43m \u001b[49m\u001b[43mrequest_dict\u001b[49m\u001b[43m)\u001b[49m\n\u001b[1;32m   1030\u001b[0m     \u001b[38;5;28;01mexcept\u001b[39;00m \u001b[38;5;167;01mException\u001b[39;00m \u001b[38;5;28;01mas\u001b[39;00m e:\n\u001b[1;32m   1031\u001b[0m         \u001b[38;5;28mself\u001b[39m\u001b[38;5;241m.\u001b[39mmeta\u001b[38;5;241m.\u001b[39mevents\u001b[38;5;241m.\u001b[39memit(\n\u001b[1;32m   1032\u001b[0m             \u001b[38;5;124mf\u001b[39m\u001b[38;5;124m'\u001b[39m\u001b[38;5;124mafter-call-error.\u001b[39m\u001b[38;5;132;01m{\u001b[39;00m\u001b[38;5;28mself\u001b[39m\u001b[38;5;241m.\u001b[39m_service_model\u001b[38;5;241m.\u001b[39mservice_id\u001b[38;5;241m.\u001b[39mhyphenize()\u001b[38;5;132;01m}\u001b[39;00m\u001b[38;5;124m.\u001b[39m\u001b[38;5;132;01m{\u001b[39;00moperation_model\u001b[38;5;241m.\u001b[39mname\u001b[38;5;132;01m}\u001b[39;00m\u001b[38;5;124m'\u001b[39m,\n\u001b[1;32m   1033\u001b[0m             exception\u001b[38;5;241m=\u001b[39me,\n\u001b[1;32m   1034\u001b[0m             context\u001b[38;5;241m=\u001b[39mrequest_context,\n\u001b[1;32m   1035\u001b[0m         )\n",
      "File \u001b[0;32m/usr/local/lib/python3.12/site-packages/botocore/endpoint.py:119\u001b[0m, in \u001b[0;36mEndpoint.make_request\u001b[0;34m(self, operation_model, request_dict)\u001b[0m\n\u001b[1;32m    113\u001b[0m \u001b[38;5;28;01mdef\u001b[39;00m \u001b[38;5;21mmake_request\u001b[39m(\u001b[38;5;28mself\u001b[39m, operation_model, request_dict):\n\u001b[1;32m    114\u001b[0m     logger\u001b[38;5;241m.\u001b[39mdebug(\n\u001b[1;32m    115\u001b[0m         \u001b[38;5;124m\"\u001b[39m\u001b[38;5;124mMaking request for \u001b[39m\u001b[38;5;132;01m%s\u001b[39;00m\u001b[38;5;124m with params: \u001b[39m\u001b[38;5;132;01m%s\u001b[39;00m\u001b[38;5;124m\"\u001b[39m,\n\u001b[1;32m    116\u001b[0m         operation_model,\n\u001b[1;32m    117\u001b[0m         request_dict,\n\u001b[1;32m    118\u001b[0m     )\n\u001b[0;32m--> 119\u001b[0m     \u001b[38;5;28;01mreturn\u001b[39;00m \u001b[38;5;28;43mself\u001b[39;49m\u001b[38;5;241;43m.\u001b[39;49m\u001b[43m_send_request\u001b[49m\u001b[43m(\u001b[49m\u001b[43mrequest_dict\u001b[49m\u001b[43m,\u001b[49m\u001b[43m \u001b[49m\u001b[43moperation_model\u001b[49m\u001b[43m)\u001b[49m\n",
      "File \u001b[0;32m/usr/local/lib/python3.12/site-packages/botocore/endpoint.py:200\u001b[0m, in \u001b[0;36mEndpoint._send_request\u001b[0;34m(self, request_dict, operation_model)\u001b[0m\n\u001b[1;32m    196\u001b[0m request \u001b[38;5;241m=\u001b[39m \u001b[38;5;28mself\u001b[39m\u001b[38;5;241m.\u001b[39mcreate_request(request_dict, operation_model)\n\u001b[1;32m    197\u001b[0m success_response, exception \u001b[38;5;241m=\u001b[39m \u001b[38;5;28mself\u001b[39m\u001b[38;5;241m.\u001b[39m_get_response(\n\u001b[1;32m    198\u001b[0m     request, operation_model, context\n\u001b[1;32m    199\u001b[0m )\n\u001b[0;32m--> 200\u001b[0m \u001b[38;5;28;01mwhile\u001b[39;00m \u001b[38;5;28;43mself\u001b[39;49m\u001b[38;5;241;43m.\u001b[39;49m\u001b[43m_needs_retry\u001b[49m\u001b[43m(\u001b[49m\n\u001b[1;32m    201\u001b[0m \u001b[43m    \u001b[49m\u001b[43mattempts\u001b[49m\u001b[43m,\u001b[49m\n\u001b[1;32m    202\u001b[0m \u001b[43m    \u001b[49m\u001b[43moperation_model\u001b[49m\u001b[43m,\u001b[49m\n\u001b[1;32m    203\u001b[0m \u001b[43m    \u001b[49m\u001b[43mrequest_dict\u001b[49m\u001b[43m,\u001b[49m\n\u001b[1;32m    204\u001b[0m \u001b[43m    \u001b[49m\u001b[43msuccess_response\u001b[49m\u001b[43m,\u001b[49m\n\u001b[1;32m    205\u001b[0m \u001b[43m    \u001b[49m\u001b[43mexception\u001b[49m\u001b[43m,\u001b[49m\n\u001b[1;32m    206\u001b[0m \u001b[43m\u001b[49m\u001b[43m)\u001b[49m:\n\u001b[1;32m    207\u001b[0m     attempts \u001b[38;5;241m+\u001b[39m\u001b[38;5;241m=\u001b[39m \u001b[38;5;241m1\u001b[39m\n\u001b[1;32m    208\u001b[0m     \u001b[38;5;28mself\u001b[39m\u001b[38;5;241m.\u001b[39m_update_retries_context(context, attempts, success_response)\n",
      "File \u001b[0;32m/usr/local/lib/python3.12/site-packages/botocore/endpoint.py:379\u001b[0m, in \u001b[0;36mEndpoint._needs_retry\u001b[0;34m(self, attempts, operation_model, request_dict, response, caught_exception)\u001b[0m\n\u001b[1;32m    372\u001b[0m \u001b[38;5;28;01melse\u001b[39;00m:\n\u001b[1;32m    373\u001b[0m     \u001b[38;5;66;03m# Request needs to be retried, and we need to sleep\u001b[39;00m\n\u001b[1;32m    374\u001b[0m     \u001b[38;5;66;03m# for the specified number of times.\u001b[39;00m\n\u001b[1;32m    375\u001b[0m     logger\u001b[38;5;241m.\u001b[39mdebug(\n\u001b[1;32m    376\u001b[0m         \u001b[38;5;124m\"\u001b[39m\u001b[38;5;124mResponse received to retry, sleeping for \u001b[39m\u001b[38;5;132;01m%s\u001b[39;00m\u001b[38;5;124m seconds\u001b[39m\u001b[38;5;124m\"\u001b[39m,\n\u001b[1;32m    377\u001b[0m         handler_response,\n\u001b[1;32m    378\u001b[0m     )\n\u001b[0;32m--> 379\u001b[0m     \u001b[43mtime\u001b[49m\u001b[38;5;241;43m.\u001b[39;49m\u001b[43msleep\u001b[49m\u001b[43m(\u001b[49m\u001b[43mhandler_response\u001b[49m\u001b[43m)\u001b[49m\n\u001b[1;32m    380\u001b[0m     \u001b[38;5;28;01mreturn\u001b[39;00m \u001b[38;5;28;01mTrue\u001b[39;00m\n",
      "\u001b[0;31mKeyboardInterrupt\u001b[0m: "
     ]
    }
   ],
   "source": [
    "image_summaries = []\n",
    "for idx, img_base64 in enumerate(img_info):\n",
    "    summary = summary_img(summarize_chain, img_base64)\n",
    "    image_summaries.append(summary)\n",
    "    print (\"\\n==\")\n",
    "    print (idx)\n",
    "    \n",
    "#image_summaries = summarize_chain.batch(img_info, config={\"max_concurrency\": 1})"
   ]
  },
  {
   "cell_type": "code",
   "execution_count": 196,
   "id": "03a4109e-3510-4924-9398-c8f1b4ba9148",
   "metadata": {
    "tags": []
   },
   "outputs": [
    {
     "name": "stdout",
     "output_type": "stream",
     "text": [
      "============================\n"
     ]
    },
    {
     "data": {
      "image/png": "[encoded data removed]",
      "text/plain": [
       "<Figure size 640x480 with 1 Axes>"
      ]
     },
     "metadata": {},
     "output_type": "display_data"
    },
    {
     "name": "stdout",
     "output_type": "stream",
     "text": [
      "Summary: 이 이미지는 한국어로 된 학교 행사 안내문처럼 보입니다. 상단에는 귀여운 만화 캐릭터들(꿀벌과 요정 같은 모습)이 그려져 있고, 중앙에는 한글로 된 제목이 있습니다. 그 아래에는 두 명의 어린이 캐릭터가 꽃을 심거나 가꾸는 듯한 모습이 그려져 있으며, 배경에는 사다리와 마을 풍경이 보입니다. 이미지 하단에는 \"일시: 2024년 3월 20일 (수)\"라고 적혀 있어 행사 날짜를 알려주고 있습니다. 전체적으로 봄과 새 학기를 연상시키는 밝고 따뜻한 분위기의 이미지입니다.\n"
     ]
    }
   ],
   "source": [
    "verbose = True\n",
    "if verbose:\n",
    "    for img_base64, summary in zip(img_info, image_summaries):\n",
    "\n",
    "        print (\"============================\")\n",
    "        img = Image.open(BytesIO(base64.b64decode(img_base64)))\n",
    "        plt.imshow(img)\n",
    "        plt.show()\n",
    "\n",
    "        print (f'Summary: {summary}')"
   ]
  },
  {
   "cell_type": "markdown",
   "id": "18256cfd-9cf8-4e92-a2ae-c9b921db773c",
   "metadata": {},
   "source": [
    "`요약`된 내용을 Document의 `page_content`로, `OCR`결과는 metadata의 `origin_image`로 사용"
   ]
  },
  {
   "cell_type": "code",
   "execution_count": 197,
   "id": "22f4e057-b74a-4cf2-bcbd-ad0cc4d70638",
   "metadata": {
    "tags": []
   },
   "outputs": [],
   "source": [
    "images_preprocessed = []\n",
    "\n",
    "for img_path, image_base64, summary in zip(images, img_info, image_summaries):\n",
    "    \n",
    "    metadata = {}\n",
    "    metadata[\"img_path\"] = img_path\n",
    "    metadata[\"category\"] = \"Image\"\n",
    "    metadata[\"image_base64\"] = image_base64\n",
    "    \n",
    "    doc = Document(\n",
    "        page_content=summary,\n",
    "        metadata=metadata\n",
    "    )\n",
    "    images_preprocessed.append(doc)"
   ]
  },
  {
   "cell_type": "markdown",
   "id": "ded6c937-5a11-4907-b5bb-bee6ad0486a7",
   "metadata": {},
   "source": [
    "### For tables"
   ]
  },
  {
   "cell_type": "code",
   "execution_count": 198,
   "id": "001cd053-ef1e-41f7-ac42-868b4d28cd8c",
   "metadata": {
    "tags": []
   },
   "outputs": [],
   "source": [
    "human_prompt = [\n",
    "    {\n",
    "        \"type\": \"text\",\n",
    "        \"text\": '''\n",
    "                 Here is the table: <table>{table}</table>\n",
    "                 Given table, give a concise summary.\n",
    "                 Don't insert any XML tag such as <table> and </table> when answering.\n",
    "                 Write in Korean.\n",
    "        '''\n",
    "    },\n",
    "]\n",
    "human_message_template = HumanMessagePromptTemplate.from_template(human_prompt)"
   ]
  },
  {
   "cell_type": "code",
   "execution_count": 199,
   "id": "45cc06b5-2c72-4b21-bf1b-b467ee2816b9",
   "metadata": {
    "tags": []
   },
   "outputs": [],
   "source": [
    "prompt = ChatPromptTemplate.from_messages(\n",
    "    [\n",
    "        system_message_template,\n",
    "        human_message_template\n",
    "    ]\n",
    ")\n",
    "\n",
    "#summarize_chain = prompt | llm_text | StrOutputParser()\n",
    "summarize_chain = {\"table\": lambda x:x} | prompt | llm_text | StrOutputParser()"
   ]
  },
  {
   "cell_type": "code",
   "execution_count": 200,
   "id": "0432bbf5-2c6c-4006-8257-d435eb364101",
   "metadata": {
    "tags": []
   },
   "outputs": [
    {
     "ename": "NameError",
     "evalue": "name 'table_by_pymupdf' is not defined",
     "output_type": "error",
     "traceback": [
      "\u001b[0;31m---------------------------------------------------------------------------\u001b[0m",
      "\u001b[0;31mNameError\u001b[0m                                 Traceback (most recent call last)",
      "Cell \u001b[0;32mIn[200], line 5\u001b[0m\n\u001b[1;32m      3\u001b[0m \u001b[38;5;28;01melif\u001b[39;00m table_by_llama_parse:\n\u001b[1;32m      4\u001b[0m     tables \u001b[38;5;241m=\u001b[39m tables \u001b[38;5;241m+\u001b[39m docs_table_llamaparse\n\u001b[0;32m----> 5\u001b[0m \u001b[38;5;28;01melif\u001b[39;00m \u001b[43mtable_by_pymupdf\u001b[49m:\n\u001b[1;32m      6\u001b[0m     tables \u001b[38;5;241m=\u001b[39m tables \u001b[38;5;241m+\u001b[39m docs_table_pymupdf\n",
      "\u001b[0;31mNameError\u001b[0m: name 'table_by_pymupdf' is not defined"
     ]
    }
   ],
   "source": [
    "if table_by_llama_parse and table_by_pymupdf:\n",
    "    tables = tables + docs_table_llamaparse + docs_table_pymupdf\n",
    "elif table_by_llama_parse:\n",
    "    tables = tables + docs_table_llamaparse\n",
    "elif table_by_pymupdf:\n",
    "    tables = tables + docs_table_pymupdf"
   ]
  },
  {
   "cell_type": "code",
   "execution_count": 201,
   "id": "feb76e1e-bafc-424d-8375-67cdc37fd5e2",
   "metadata": {
    "tags": []
   },
   "outputs": [],
   "source": [
    "table_info = [(t.page_content, t.metadata[\"text_as_html\"]) for t in tables]\n",
    "table_summaries = summarize_chain.batch(table_info, config={\"max_concurrency\": 1})\n",
    "if table_as_image: table_info = [(t.page_content, t.metadata[\"text_as_html\"], t.metadata[\"image_base64\"]) if \"image_base64\" in t.metadata else (t.page_content, t.metadata[\"text_as_html\"], None) for t in tables]"
   ]
  },
  {
   "cell_type": "code",
   "execution_count": 202,
   "id": "ad5aa438-d600-4367-8576-73fa9e65057c",
   "metadata": {
    "tags": []
   },
   "outputs": [],
   "source": [
    "from src.utils.common_utils import print_html"
   ]
  },
  {
   "cell_type": "code",
   "execution_count": 203,
   "id": "92babfff-d9d5-4de5-a3f6-cd4bab5ed336",
   "metadata": {
    "tags": []
   },
   "outputs": [],
   "source": [
    "verbose = True\n",
    "index = 0\n",
    "if verbose:\n",
    "    for table, summary in zip(table_info, table_summaries):\n",
    "\n",
    "        if table_as_image:\n",
    "            page_contents, table_as_html, img_base64 = table\n",
    "        else: page_contents, table_as_html = table\n",
    "\n",
    "        print (\"============================\")\n",
    "        print (index)\n",
    "        print (f'table: {page_contents}')\n",
    "        print (\"----------------------------\")\n",
    "        print (f'summary: {summary}')\n",
    "        print (\"----------------------------\")\n",
    "        #print (f'html:')\n",
    "        #print_html(table_as_html)\n",
    "        print (\"----------------------------\")\n",
    "        if table_as_image and img_base64 is not None:\n",
    "            print (\"image\")\n",
    "            img = Image.open(BytesIO(base64.b64decode(img_base64)))\n",
    "            plt.imshow(img)\n",
    "            plt.show()\n",
    "        index += 1\n"
   ]
  },
  {
   "cell_type": "markdown",
   "id": "af085260-0ff9-45dd-8c0f-8c2993ae5018",
   "metadata": {},
   "source": [
    "`요약`된 내용을 Document의 `page_content`로, `parsed table`은 metadata의 `origin_table`로 사용"
   ]
  },
  {
   "cell_type": "code",
   "execution_count": 204,
   "id": "b8c733fd-0274-41bb-868d-832c797aff7b",
   "metadata": {
    "tags": []
   },
   "outputs": [],
   "source": [
    "tables_preprocessed = []\n",
    "\n",
    "for origin, summary in zip(tables, table_summaries):\n",
    "    metadata = origin.metadata\n",
    "    metadata[\"origin_table\"] = origin.page_content\n",
    "    doc = Document(\n",
    "        page_content=summary,\n",
    "        metadata=metadata\n",
    "    )\n",
    "    tables_preprocessed.append(doc)"
   ]
  },
  {
   "cell_type": "markdown",
   "id": "f41fbd15-2a30-4096-8916-d03d15ca4fb6",
   "metadata": {},
   "source": [
    "## 4. Index 생성\n",
    "Document로 부터 추출한 text, table, 그리고 image 정보를 Amazon OpenSearch에 저장합니다. (인덱싱)  "
   ]
  },
  {
   "cell_type": "markdown",
   "id": "5a8d684e-0963-4f85-a725-42842eb9d46e",
   "metadata": {},
   "source": [
    "### Index 이름 결정"
   ]
  },
  {
   "cell_type": "code",
   "execution_count": 205,
   "id": "1079275c-6262-44bb-8bc6-0efffff1620b",
   "metadata": {
    "tags": []
   },
   "outputs": [],
   "source": [
    "import boto3\n",
    "from src.utils.ssm import parameter_store"
   ]
  },
  {
   "cell_type": "code",
   "execution_count": 206,
   "id": "2ed6173a-8a43-49a8-945d-dbc6014a485b",
   "metadata": {
    "tags": []
   },
   "outputs": [],
   "source": [
    "pm = parameter_store(\"ap-northeast-2\")"
   ]
  },
  {
   "cell_type": "code",
   "execution_count": 207,
   "id": "0657be39-a01d-4fe8-a6d8-d4bc3334ea6e",
   "metadata": {
    "tags": []
   },
   "outputs": [],
   "source": [
    "index_name = \"complex-doc-index\""
   ]
  },
  {
   "cell_type": "code",
   "execution_count": 208,
   "id": "d40c8b5d-92a7-4400-a579-699e482cb68c",
   "metadata": {
    "tags": []
   },
   "outputs": [
    {
     "name": "stdout",
     "output_type": "stream",
     "text": [
      "Parameter stored successfully.\n"
     ]
    }
   ],
   "source": [
    "pm.put_params(\n",
    "    key=\"opensearch_index_name\",\n",
    "    value=f'{index_name}',\n",
    "    overwrite=True,\n",
    "    enc=False\n",
    ")"
   ]
  },
  {
   "cell_type": "markdown",
   "id": "32323202-e3a9-45ed-820c-a7d1087ff2e3",
   "metadata": {},
   "source": [
    "### Index 스키마 정의"
   ]
  },
  {
   "cell_type": "code",
   "execution_count": 209,
   "id": "aa45ec52-8aff-4513-bc17-2f613b38910c",
   "metadata": {
    "tags": []
   },
   "outputs": [],
   "source": [
    "index_body = {\n",
    "    'settings': {\n",
    "        'analysis': {\n",
    "            'analyzer': {\n",
    "                'my_analyzer': {\n",
    "                    'char_filter':['html_strip'],\n",
    "                    'tokenizer': 'nori',\n",
    "                    'filter': [\n",
    "                        'my_nori_part_of_speech'\n",
    "                    ],\n",
    "                    'type': 'custom'\n",
    "                }\n",
    "            },\n",
    "            'tokenizer': {\n",
    "                'nori': {\n",
    "                    'decompound_mode': 'mixed',\n",
    "                    'discard_punctuation': 'true',\n",
    "                    'type': 'nori_tokenizer'\n",
    "                }\n",
    "            },\n",
    "            \"filter\": {\n",
    "                \"my_nori_part_of_speech\": {\n",
    "                    \"type\": \"nori_part_of_speech\",\n",
    "                    \"stoptags\": [\n",
    "                        \"J\", \"XSV\", \"E\", \"IC\",\"MAJ\",\"NNB\",\n",
    "                        \"SP\", \"SSC\", \"SSO\",\n",
    "                        \"SC\",\"SE\",\"XSN\",\"XSV\",\n",
    "                        \"UNA\",\"NA\",\"VCP\",\"VSV\",\n",
    "                        \"VX\"\n",
    "                    ]\n",
    "                }\n",
    "            }\n",
    "        },\n",
    "        'index': {\n",
    "            'knn': True\n",
    "        }\n",
    "    },\n",
    "    'mappings': {\n",
    "        'properties': {\n",
    "            'metadata': {\n",
    "                'properties': {\n",
    "                    'source': {'type': 'keyword'},\n",
    "                    'row': {'type': 'long'},\n",
    "                    'type': {'type': 'keyword'},\n",
    "                    'timestamp': {'type': 'float'},\n",
    "                }\n",
    "            },\n",
    "            'text': {\n",
    "                'analyzer': 'my_analyzer',\n",
    "                'search_analyzer': 'my_analyzer',\n",
    "                'type': 'text'\n",
    "            },\n",
    "            'vector_field': {\n",
    "                'type': 'knn_vector',\n",
    "                'dimension': f\"{dimension}\",\n",
    "                'method': {\n",
    "                    'name': 'hnsw',\n",
    "                    'space_type': 'cosinesimil',  # 여기로 이동\n",
    "                    'engine': 'nmslib',\n",
    "                    'parameters': {\n",
    "                        'ef_construction': 128,\n",
    "                        'm': 16\n",
    "                    }\n",
    "                }\n",
    "            }\n",
    "        }\n",
    "    }\n",
    "}"
   ]
  },
  {
   "cell_type": "markdown",
   "id": "679edbbd-44ca-4264-a4db-0ec489c58264",
   "metadata": {},
   "source": [
    "## 5. LangChain OpenSearch VectorStore 생성 \n",
    "### 선수 조건"
   ]
  },
  {
   "cell_type": "markdown",
   "id": "2ae8dd80-daf4-4e81-810b-b9e2f6611605",
   "metadata": {},
   "source": [
    "#### [중요] 아래에 aws parameter store 에 아래 인증정보가 먼저 입력되어 있어야 합니다."
   ]
  },
  {
   "cell_type": "code",
   "execution_count": 210,
   "id": "fb47bf94-4bf9-4152-85f0-4babcb03edbb",
   "metadata": {
    "tags": []
   },
   "outputs": [],
   "source": [
    "opensearch_domain_endpoint = pm.get_params(\n",
    "    key=\"opensearch_domain_endpoint\",\n",
    "    enc=False\n",
    ")"
   ]
  },
  {
   "cell_type": "code",
   "execution_count": 211,
   "id": "2319184c-4531-42c9-b400-77f53de071da",
   "metadata": {
    "tags": []
   },
   "outputs": [
    {
     "name": "stdout",
     "output_type": "stream",
     "text": [
      "https://kviqznsn9qgriwrn6wze.ap-northeast-2.aoss.amazonaws.com\n"
     ]
    }
   ],
   "source": [
    "opensearch_domain_endpoint = opensearch_domain_endpoint\n",
    "print(opensearch_domain_endpoint)\n",
    "from opensearchpy import AWSV4SignerAuth, OpenSearch, RequestsHttpConnection\n",
    "# AWS 자격 증명 생성\n",
    "region = \"ap-northeast-2\"\n",
    "credentials = boto3.Session().get_credentials()\n",
    "\n",
    "# AWSV4SignerAuth 사용\n",
    "auth = AWSV4SignerAuth(credentials, region, 'aoss')\n"
   ]
  },
  {
   "cell_type": "markdown",
   "id": "f42526e7-d010-4e06-b158-3c86f9ea45e9",
   "metadata": {},
   "source": [
    "### OpenSearch Client 생성"
   ]
  },
  {
   "cell_type": "code",
   "execution_count": 246,
   "id": "41c3846a-ae55-45bd-98ac-f9280dda4409",
   "metadata": {
    "tags": []
   },
   "outputs": [],
   "source": [
    "from src.utils.opensearch import opensearch_utils"
   ]
  },
  {
   "cell_type": "code",
   "execution_count": 247,
   "id": "c4b0fd7c-5fe2-42c6-bf58-f41930c37c0a",
   "metadata": {
    "tags": []
   },
   "outputs": [],
   "source": [
    "aws_region = \"ap-northeast-2\"\n",
    "\n",
    "os_client = opensearch_utils.create_aws_opensearch_client(\n",
    "    aws_region,\n",
    "    opensearch_domain_endpoint\n",
    ")"
   ]
  },
  {
   "cell_type": "markdown",
   "id": "f824d282-507e-44c9-bb02-a8978ae2d110",
   "metadata": {
    "tags": []
   },
   "source": [
    "### 오픈 서치 인덱스 생성 \n",
    "- 오픈 서치에 해당 인덱스가 존재하면, 삭제 합니다. "
   ]
  },
  {
   "cell_type": "code",
   "execution_count": 248,
   "id": "a9429551-11f9-41e8-8c28-8e743bc308dc",
   "metadata": {
    "tags": []
   },
   "outputs": [
    {
     "name": "stdout",
     "output_type": "stream",
     "text": [
      "index_name=complex-doc-index, exists=True\n",
      "True\n",
      "\n",
      "Deleting index:\n",
      "{'acknowledged': True}\n",
      "\n",
      "Creating index:\n",
      "{'acknowledged': True, 'shards_acknowledged': True, 'index': 'complex-doc-index'}\n",
      "Index is created\n",
      "{'complex-doc-index': {'aliases': {},\n",
      "                       'mappings': {'properties': {'metadata': {'properties': {'row': {'type': 'long'},\n",
      "                                                                               'source': {'type': 'keyword'},\n",
      "                                                                               'timestamp': {'type': 'float'},\n",
      "                                                                               'type': {'type': 'keyword'}}},\n",
      "                                                   'text': {'analyzer': 'my_analyzer',\n",
      "                                                            'type': 'text'},\n",
      "                                                   'vector_field': {'dimension': 1024,\n",
      "                                                                    'method': {'engine': 'nmslib',\n",
      "                                                                               'name': 'hnsw',\n",
      "                                                                               'parameters': {'ef_construction': 128,\n",
      "                                                                                              'm': 16},\n",
      "                                                                               'space_type': 'cosinesimil'},\n",
      "                                                                    'type': 'knn_vector'}}},\n",
      "                       'settings': {'index': {'analysis': {'analyzer': {'my_analyzer': {'char_filter': ['html_strip'],\n",
      "                                                                                        'filter': ['my_nori_part_of_speech'],\n",
      "                                                                                        'tokenizer': 'nori',\n",
      "                                                                                        'type': 'custom'}},\n",
      "                                                           'filter': {'my_nori_part_of_speech': {'stoptags': ['J',\n",
      "                                                                                                              'XSV',\n",
      "                                                                                                              'E',\n",
      "                                                                                                              'IC',\n",
      "                                                                                                              'MAJ',\n",
      "                                                                                                              'NNB',\n",
      "                                                                                                              'SP',\n",
      "                                                                                                              'SSC',\n",
      "                                                                                                              'SSO',\n",
      "                                                                                                              'SC',\n",
      "                                                                                                              'SE',\n",
      "                                                                                                              'XSN',\n",
      "                                                                                                              'XSV',\n",
      "                                                                                                              'UNA',\n",
      "                                                                                                              'NA',\n",
      "                                                                                                              'VCP',\n",
      "                                                                                                              'VSV',\n",
      "                                                                                                              'VX'],\n",
      "                                                                                                 'type': 'nori_part_of_speech'}},\n",
      "                                                           'tokenizer': {'nori': {'decompound_mode': 'mixed',\n",
      "                                                                                  'discard_punctuation': 'true',\n",
      "                                                                                  'type': 'nori_tokenizer'}}},\n",
      "                                              'creation_date': '1733905880992',\n",
      "                                              'knn': 'true',\n",
      "                                              'number_of_replicas': '0',\n",
      "                                              'number_of_shards': '2',\n",
      "                                              'provided_name': 'complex-doc-index',\n",
      "                                              'uuid': 'gVfYtJMBJ-1__xWQFxJp',\n",
      "                                              'version': {'created': '136327827'}}}}}\n"
     ]
    }
   ],
   "source": [
    "index_exists = opensearch_utils.check_if_index_exists(\n",
    "    os_client,\n",
    "    index_name\n",
    ")\n",
    "print(index_exists)\n",
    "if index_exists:\n",
    "    opensearch_utils.delete_index(\n",
    "        os_client,\n",
    "        index_name\n",
    "    )\n",
    "\n",
    "opensearch_utils.create_index(os_client, index_name, index_body)\n",
    "index_info = os_client.indices.get(index=index_name)\n",
    "print(\"Index is created\")\n",
    "pprint(index_info)"
   ]
  },
  {
   "cell_type": "markdown",
   "id": "233327e3-6c4b-43cb-a5dc-65caca085355",
   "metadata": {},
   "source": [
    "### 랭체인 인덱스 연결 오브젝트 생성\n",
    "\n",
    "- [langchain.vectorstores.opensearch_vector_search.OpenSearchVectorSearch](https://api.python.langchain.com/en/latest/vectorstores/langchain.vectorstores.opensearch_vector_search.OpenSearchVectorSearch.html)"
   ]
  },
  {
   "cell_type": "code",
   "execution_count": 215,
   "id": "a29a80eb-eb52-458b-b37d-39214937c188",
   "metadata": {
    "tags": []
   },
   "outputs": [],
   "source": [
    "from langchain.vectorstores import OpenSearchVectorSearch"
   ]
  },
  {
   "cell_type": "code",
   "execution_count": 216,
   "id": "8c5ee773-6952-4d9d-baef-bb11491df90f",
   "metadata": {
    "tags": []
   },
   "outputs": [
    {
     "data": {
      "text/plain": [
       "<langchain_community.vectorstores.opensearch_vector_search.OpenSearchVectorSearch at 0x7f3f7b470890>"
      ]
     },
     "execution_count": 216,
     "metadata": {},
     "output_type": "execute_result"
    }
   ],
   "source": [
    "import boto3\n",
    "from opensearchpy import AWSV4SignerAuth, OpenSearch, RequestsHttpConnection\n",
    "from langchain_community.vectorstores.opensearch_vector_search import OpenSearchVectorSearch\n",
    "\n",
    "# AWS 자격 증명 생성\n",
    "region = \"ap-northeast-2\"\n",
    "credentials = boto3.Session().get_credentials()\n",
    "\n",
    "# AWSV4SignerAuth 사용\n",
    "auth = AWSV4SignerAuth(credentials, region, 'aoss')\n",
    "\n",
    "\n",
    "vector_db = OpenSearchVectorSearch(\n",
    "    index_name=index_name,\n",
    "    opensearch_url=opensearch_domain_endpoint,\n",
    "    embedding_function=llm_emb,\n",
    "    http_auth=auth, # AWSV4SignerAuth 사용\n",
    "    is_aoss=False,\n",
    "    engine=\"faiss\",\n",
    "    space_type=\"l2\",\n",
    "    bulk_size=100000,\n",
    "    timeout=60\n",
    ")\n",
    "vector_db"
   ]
  },
  {
   "cell_type": "markdown",
   "id": "b10817e5-7c5b-4109-ab59-0712b777c7b2",
   "metadata": {},
   "source": [
    "### Chunking Strategy: Parent documents\n",
    "* Chunk Size and Chunk Overlap Size"
   ]
  },
  {
   "cell_type": "code",
   "execution_count": 217,
   "id": "b1886286-3b05-4c38-b02b-d0581980ab4a",
   "metadata": {
    "tags": []
   },
   "outputs": [],
   "source": [
    "from src.utils.chunk import parant_documents"
   ]
  },
  {
   "cell_type": "code",
   "execution_count": 218,
   "id": "7dd3320e-b8f2-4987-999e-bce0aa8fec67",
   "metadata": {
    "tags": []
   },
   "outputs": [],
   "source": [
    "parent_chunk_size = 4096\n",
    "parent_chunk_overlap = 0\n",
    "\n",
    "child_chunk_size = 1024\n",
    "child_chunk_overlap = 256\n",
    "\n",
    "opensearch_parent_key_name = \"parent_id\"\n",
    "opensearch_family_tree_key_name = \"family_tree\""
   ]
  },
  {
   "cell_type": "markdown",
   "id": "6ea6c7d1-7da7-4a63-8be6-ff05e12f8a9a",
   "metadata": {},
   "source": [
    "* Parent Chunking\n",
    "    - create_parent_chunk() 아래와 같은 작업을 합니다.\n",
    "    - all_docs 에 있는 문서를 parent_chunk_size 만큼으로 청킹 합니다.\n",
    "    - Parent Chunk 에 두개의 메타 데이타를 생성 합니다.\n",
    "        - family_tree: parent\n",
    "        - parent_id : None"
   ]
  },
  {
   "cell_type": "code",
   "execution_count": 219,
   "id": "e41d871e-7872-4c7d-be6a-a5d1e1283a3a",
   "metadata": {
    "tags": []
   },
   "outputs": [
    {
     "name": "stdout",
     "output_type": "stream",
     "text": [
      "Number of parent_chunk_docs= 24\n"
     ]
    }
   ],
   "source": [
    "parent_chunk_docs = parant_documents.create_parent_chunk(\n",
    "    docs=texts,\n",
    "    parent_id_key=opensearch_parent_key_name,\n",
    "    family_tree_id_key=opensearch_family_tree_key_name,\n",
    "    parent_chunk_size=parent_chunk_size,\n",
    "    parent_chunk_overlap=parent_chunk_overlap\n",
    ")\n",
    "print(f'Number of parent_chunk_docs= {len(parent_chunk_docs)}')"
   ]
  },
  {
   "cell_type": "markdown",
   "id": "4e4019e2-6e15-4c91-bc05-028e0844a69e",
   "metadata": {},
   "source": [
    "* Insert doc into OpenSearch "
   ]
  },
  {
   "cell_type": "code",
   "execution_count": 263,
   "id": "461f5022",
   "metadata": {},
   "outputs": [],
   "source": [
    "import boto3\n",
    "from opensearchpy import AWSV4SignerAuth, OpenSearch, RequestsHttpConnection\n",
    "from langchain_community.vectorstores.opensearch_vector_search import OpenSearchVectorSearch\n",
    "\n",
    "# AWS 자격 증명 생성\n",
    "region = \"ap-northeast-2\"\n",
    "credentials = boto3.Session().get_credentials()\n",
    "\n",
    "# AWSV4SignerAuth 사용\n",
    "auth = AWSV4SignerAuth(credentials, region, 'aoss')\n",
    "\n",
    "# Vector DB 클라이언트 생성\n",
    "vector_db = OpenSearchVectorSearch(\n",
    "    index_name=index_name,\n",
    "    embedding_function=llm_emb,\n",
    "    opensearch_url=opensearch_domain_endpoint,\n",
    "    http_auth=auth,  # AWSV4SignerAuth 사용\n",
    "    is_aoss=True,\n",
    "    engine=\"faiss\",\n",
    "    space_type=\"l2\",\n",
    "    timeout=60,\n",
    "    use_ssl=True,\n",
    "    verify_certs=True,\n",
    "    connection_class=RequestsHttpConnection\n",
    ")"
   ]
  },
  {
   "cell_type": "code",
   "execution_count": 264,
   "id": "d82fd669-3b39-4752-a1ac-3860c339072d",
   "metadata": {
    "tags": []
   },
   "outputs": [
    {
     "name": "stdout",
     "output_type": "stream",
     "text": [
      "CPU times: user 189 ms, sys: 477 μs, total: 190 ms\n",
      "Wall time: 5.04 s\n"
     ]
    }
   ],
   "source": [
    "\n",
    "%%time\n",
    "\n",
    "parent_ids = vector_db.add_documents(\n",
    "    documents = parent_chunk_docs, \n",
    "    vector_field = \"vector_field\",\n",
    "    bulk_size = 1000000\n",
    ")"
   ]
  },
  {
   "cell_type": "code",
   "execution_count": 265,
   "id": "a6787ed2-5827-48f9-9a3d-8e393286b041",
   "metadata": {
    "tags": []
   },
   "outputs": [
    {
     "name": "stdout",
     "output_type": "stream",
     "text": [
      "total count docs:  {'count': 0, '_shards': {'total': 0, 'successful': 0, 'skipped': 0, 'failed': 0}}\n"
     ]
    }
   ],
   "source": [
    "total_count_docs = opensearch_utils.get_count(os_client, index_name)\n",
    "print(\"total count docs: \", total_count_docs)"
   ]
  },
  {
   "cell_type": "markdown",
   "id": "3d143588-8c55-4ab5-8f2d-ee8fff66b98e",
   "metadata": {},
   "source": [
    "* 삽입된 Parent Chunk 의 첫번째를 확인 합니다. family_tree, parent_id 의 값을 확인 하세요."
   ]
  },
  {
   "cell_type": "code",
   "execution_count": 266,
   "id": "bad60c29",
   "metadata": {},
   "outputs": [
    {
     "name": "stdout",
     "output_type": "stream",
     "text": [
      "First document ID: 97d85b00-79d2-452c-9bd8-623f737db9ec\n"
     ]
    }
   ],
   "source": [
    "\n",
    "print(\"First document ID:\", parent_ids[0])"
   ]
  },
  {
   "cell_type": "code",
   "execution_count": 274,
   "id": "8d64673d",
   "metadata": {},
   "outputs": [
    {
     "ename": "ModuleNotFoundError",
     "evalue": "No module named 'opensearch'",
     "output_type": "error",
     "traceback": [
      "\u001b[0;31m---------------------------------------------------------------------------\u001b[0m",
      "\u001b[0;31mModuleNotFoundError\u001b[0m                       Traceback (most recent call last)",
      "Cell \u001b[0;32mIn[274], line 1\u001b[0m\n\u001b[0;32m----> 1\u001b[0m \u001b[38;5;28;01mfrom\u001b[39;00m \u001b[38;5;21;01mopensearch\u001b[39;00m \u001b[38;5;28;01mimport\u001b[39;00m opensearch_utils\n",
      "\u001b[0;31mModuleNotFoundError\u001b[0m: No module named 'opensearch'"
     ]
    }
   ],
   "source": [
    "from opensearch import opensearch_utils"
   ]
  },
  {
   "cell_type": "code",
   "execution_count": 268,
   "id": "e7b7fd75-486c-467a-9f25-53115b9b4b23",
   "metadata": {
    "tags": []
   },
   "outputs": [
    {
     "name": "stderr",
     "output_type": "stream",
     "text": [
      "WARNING:opensearch:GET https://kviqznsn9qgriwrn6wze.ap-northeast-2.aoss.amazonaws.com:443/complex-doc-index/_doc/97d85b00-79d2-452c-9bd8-623f737db9ec [status:400 request:0.026s]\n",
      "WARNING:opensearch:Undecodable raw error response from server: Unterminated string starting at: line 1 column 67 (char 66)\n"
     ]
    },
    {
     "name": "stdout",
     "output_type": "stream",
     "text": [
      "97d85b00-79d2-452c-9bd8-623f737db9ec complex-doc-index\n"
     ]
    },
    {
     "ename": "RequestError",
     "evalue": "RequestError(400, '{\"error\":{\"root_cause\":[{\"type\":\"null_pointer_exception\",\"reason\":\"Cannot invoke \\\\\"org.opensearch.cluster.ClusterState.blocks()\\\\\" because \\\\\"s')",
     "output_type": "error",
     "traceback": [
      "\u001b[0;31m---------------------------------------------------------------------------\u001b[0m",
      "\u001b[0;31mRequestError\u001b[0m                              Traceback (most recent call last)",
      "Cell \u001b[0;32mIn[268], line 19\u001b[0m\n\u001b[1;32m     17\u001b[0m \u001b[38;5;66;03m# 사용 예시\u001b[39;00m\n\u001b[1;32m     18\u001b[0m \u001b[38;5;28mprint\u001b[39m(parent_ids[\u001b[38;5;241m0\u001b[39m], index_name)\n\u001b[0;32m---> 19\u001b[0m response \u001b[38;5;241m=\u001b[39m \u001b[43mopensearch_utils\u001b[49m\u001b[38;5;241;43m.\u001b[39;49m\u001b[43mget_document\u001b[49m\u001b[43m(\u001b[49m\u001b[43mos_client\u001b[49m\u001b[43m,\u001b[49m\u001b[43m \u001b[49m\u001b[43mdoc_id\u001b[49m\u001b[38;5;241;43m=\u001b[39;49m\u001b[43mparent_ids\u001b[49m\u001b[43m[\u001b[49m\u001b[38;5;241;43m0\u001b[39;49m\u001b[43m]\u001b[49m\u001b[43m,\u001b[49m\u001b[43m \u001b[49m\u001b[43mindex_name\u001b[49m\u001b[38;5;241;43m=\u001b[39;49m\u001b[43mindex_name\u001b[49m\u001b[43m)\u001b[49m\n\u001b[1;32m     21\u001b[0m show_opensearch_doc_info(response)\n",
      "File \u001b[0;32m/app/src/utils/opensearch.py:153\u001b[0m, in \u001b[0;36mopensearch_utils.get_document\u001b[0;34m(cls, os_client, doc_id, index_name)\u001b[0m\n\u001b[1;32m    151\u001b[0m \u001b[38;5;129m@classmethod\u001b[39m\n\u001b[1;32m    152\u001b[0m \u001b[38;5;28;01mdef\u001b[39;00m \u001b[38;5;21mget_document\u001b[39m(\u001b[38;5;28mcls\u001b[39m, os_client, doc_id, index_name):\n\u001b[0;32m--> 153\u001b[0m     response \u001b[38;5;241m=\u001b[39m \u001b[43mos_client\u001b[49m\u001b[38;5;241;43m.\u001b[39;49m\u001b[43mget\u001b[49m\u001b[43m(\u001b[49m\n\u001b[1;32m    154\u001b[0m \u001b[43m        \u001b[49m\u001b[38;5;28;43mid\u001b[39;49m\u001b[38;5;241;43m=\u001b[39;49m\u001b[43m \u001b[49m\u001b[43mdoc_id\u001b[49m\u001b[43m,\u001b[49m\n\u001b[1;32m    155\u001b[0m \u001b[43m        \u001b[49m\u001b[43mindex\u001b[49m\u001b[38;5;241;43m=\u001b[39;49m\u001b[43mindex_name\u001b[49m\n\u001b[1;32m    156\u001b[0m \u001b[43m    \u001b[49m\u001b[43m)\u001b[49m\n\u001b[1;32m    158\u001b[0m     \u001b[38;5;28;01mreturn\u001b[39;00m response\n",
      "File \u001b[0;32m/usr/local/lib/python3.12/site-packages/opensearchpy/client/utils.py:176\u001b[0m, in \u001b[0;36mquery_params.<locals>._wrapper.<locals>._wrapped\u001b[0;34m(*args, **kwargs)\u001b[0m\n\u001b[1;32m    173\u001b[0m         \u001b[38;5;28;01mif\u001b[39;00m v \u001b[38;5;129;01mis\u001b[39;00m \u001b[38;5;129;01mnot\u001b[39;00m \u001b[38;5;28;01mNone\u001b[39;00m:\n\u001b[1;32m    174\u001b[0m             params[p] \u001b[38;5;241m=\u001b[39m _escape(v)\n\u001b[0;32m--> 176\u001b[0m \u001b[38;5;28;01mreturn\u001b[39;00m \u001b[43mfunc\u001b[49m\u001b[43m(\u001b[49m\u001b[38;5;241;43m*\u001b[39;49m\u001b[43margs\u001b[49m\u001b[43m,\u001b[49m\u001b[43m \u001b[49m\u001b[43mparams\u001b[49m\u001b[38;5;241;43m=\u001b[39;49m\u001b[43mparams\u001b[49m\u001b[43m,\u001b[49m\u001b[43m \u001b[49m\u001b[43mheaders\u001b[49m\u001b[38;5;241;43m=\u001b[39;49m\u001b[43mheaders\u001b[49m\u001b[43m,\u001b[49m\u001b[43m \u001b[49m\u001b[38;5;241;43m*\u001b[39;49m\u001b[38;5;241;43m*\u001b[39;49m\u001b[43mkwargs\u001b[49m\u001b[43m)\u001b[49m\n",
      "File \u001b[0;32m/usr/local/lib/python3.12/site-packages/opensearchpy/client/__init__.py:1399\u001b[0m, in \u001b[0;36mOpenSearch.get\u001b[0;34m(self, index, id, params, headers)\u001b[0m\n\u001b[1;32m   1396\u001b[0m     \u001b[38;5;28;01mif\u001b[39;00m param \u001b[38;5;129;01min\u001b[39;00m SKIP_IN_PATH:\n\u001b[1;32m   1397\u001b[0m         \u001b[38;5;28;01mraise\u001b[39;00m \u001b[38;5;167;01mValueError\u001b[39;00m(\u001b[38;5;124m\"\u001b[39m\u001b[38;5;124mEmpty value passed for a required argument.\u001b[39m\u001b[38;5;124m\"\u001b[39m)\n\u001b[0;32m-> 1399\u001b[0m \u001b[38;5;28;01mreturn\u001b[39;00m \u001b[38;5;28;43mself\u001b[39;49m\u001b[38;5;241;43m.\u001b[39;49m\u001b[43mtransport\u001b[49m\u001b[38;5;241;43m.\u001b[39;49m\u001b[43mperform_request\u001b[49m\u001b[43m(\u001b[49m\n\u001b[1;32m   1400\u001b[0m \u001b[43m    \u001b[49m\u001b[38;5;124;43m\"\u001b[39;49m\u001b[38;5;124;43mGET\u001b[39;49m\u001b[38;5;124;43m\"\u001b[39;49m\u001b[43m,\u001b[49m\u001b[43m \u001b[49m\u001b[43m_make_path\u001b[49m\u001b[43m(\u001b[49m\u001b[43mindex\u001b[49m\u001b[43m,\u001b[49m\u001b[43m \u001b[49m\u001b[38;5;124;43m\"\u001b[39;49m\u001b[38;5;124;43m_doc\u001b[39;49m\u001b[38;5;124;43m\"\u001b[39;49m\u001b[43m,\u001b[49m\u001b[43m \u001b[49m\u001b[38;5;28;43mid\u001b[39;49m\u001b[43m)\u001b[49m\u001b[43m,\u001b[49m\u001b[43m \u001b[49m\u001b[43mparams\u001b[49m\u001b[38;5;241;43m=\u001b[39;49m\u001b[43mparams\u001b[49m\u001b[43m,\u001b[49m\u001b[43m \u001b[49m\u001b[43mheaders\u001b[49m\u001b[38;5;241;43m=\u001b[39;49m\u001b[43mheaders\u001b[49m\n\u001b[1;32m   1401\u001b[0m \u001b[43m\u001b[49m\u001b[43m)\u001b[49m\n",
      "File \u001b[0;32m/usr/local/lib/python3.12/site-packages/opensearchpy/transport.py:457\u001b[0m, in \u001b[0;36mTransport.perform_request\u001b[0;34m(self, method, url, params, body, timeout, ignore, headers)\u001b[0m\n\u001b[1;32m    455\u001b[0m             \u001b[38;5;28;01mraise\u001b[39;00m e\n\u001b[1;32m    456\u001b[0m     \u001b[38;5;28;01melse\u001b[39;00m:\n\u001b[0;32m--> 457\u001b[0m         \u001b[38;5;28;01mraise\u001b[39;00m e\n\u001b[1;32m    459\u001b[0m \u001b[38;5;28;01melse\u001b[39;00m:\n\u001b[1;32m    460\u001b[0m     \u001b[38;5;66;03m# connection didn't fail, confirm its live status\u001b[39;00m\n\u001b[1;32m    461\u001b[0m     \u001b[38;5;28mself\u001b[39m\u001b[38;5;241m.\u001b[39mconnection_pool\u001b[38;5;241m.\u001b[39mmark_live(connection)\n",
      "File \u001b[0;32m/usr/local/lib/python3.12/site-packages/opensearchpy/transport.py:418\u001b[0m, in \u001b[0;36mTransport.perform_request\u001b[0;34m(self, method, url, params, body, timeout, ignore, headers)\u001b[0m\n\u001b[1;32m    415\u001b[0m connection \u001b[38;5;241m=\u001b[39m \u001b[38;5;28mself\u001b[39m\u001b[38;5;241m.\u001b[39mget_connection()\n\u001b[1;32m    417\u001b[0m \u001b[38;5;28;01mtry\u001b[39;00m:\n\u001b[0;32m--> 418\u001b[0m     status, headers_response, data \u001b[38;5;241m=\u001b[39m \u001b[43mconnection\u001b[49m\u001b[38;5;241;43m.\u001b[39;49m\u001b[43mperform_request\u001b[49m\u001b[43m(\u001b[49m\n\u001b[1;32m    419\u001b[0m \u001b[43m        \u001b[49m\u001b[43mmethod\u001b[49m\u001b[43m,\u001b[49m\n\u001b[1;32m    420\u001b[0m \u001b[43m        \u001b[49m\u001b[43murl\u001b[49m\u001b[43m,\u001b[49m\n\u001b[1;32m    421\u001b[0m \u001b[43m        \u001b[49m\u001b[43mparams\u001b[49m\u001b[43m,\u001b[49m\n\u001b[1;32m    422\u001b[0m \u001b[43m        \u001b[49m\u001b[43mbody\u001b[49m\u001b[43m,\u001b[49m\n\u001b[1;32m    423\u001b[0m \u001b[43m        \u001b[49m\u001b[43mheaders\u001b[49m\u001b[38;5;241;43m=\u001b[39;49m\u001b[43mheaders\u001b[49m\u001b[43m,\u001b[49m\n\u001b[1;32m    424\u001b[0m \u001b[43m        \u001b[49m\u001b[43mignore\u001b[49m\u001b[38;5;241;43m=\u001b[39;49m\u001b[43mignore\u001b[49m\u001b[43m,\u001b[49m\n\u001b[1;32m    425\u001b[0m \u001b[43m        \u001b[49m\u001b[43mtimeout\u001b[49m\u001b[38;5;241;43m=\u001b[39;49m\u001b[43mtimeout\u001b[49m\u001b[43m,\u001b[49m\n\u001b[1;32m    426\u001b[0m \u001b[43m    \u001b[49m\u001b[43m)\u001b[49m\n\u001b[1;32m    428\u001b[0m     \u001b[38;5;66;03m# Lowercase all the header names for consistency in accessing them.\u001b[39;00m\n\u001b[1;32m    429\u001b[0m     headers_response \u001b[38;5;241m=\u001b[39m {\n\u001b[1;32m    430\u001b[0m         header\u001b[38;5;241m.\u001b[39mlower(): value \u001b[38;5;28;01mfor\u001b[39;00m header, value \u001b[38;5;129;01min\u001b[39;00m headers_response\u001b[38;5;241m.\u001b[39mitems()\n\u001b[1;32m    431\u001b[0m     }\n",
      "File \u001b[0;32m/usr/local/lib/python3.12/site-packages/opensearchpy/connection/http_requests.py:238\u001b[0m, in \u001b[0;36mRequestsHttpConnection.perform_request\u001b[0;34m(self, method, url, params, body, timeout, allow_redirects, ignore, headers)\u001b[0m\n\u001b[1;32m    225\u001b[0m \u001b[38;5;28;01mif\u001b[39;00m (\n\u001b[1;32m    226\u001b[0m     \u001b[38;5;129;01mnot\u001b[39;00m (\u001b[38;5;241m200\u001b[39m \u001b[38;5;241m<\u001b[39m\u001b[38;5;241m=\u001b[39m response\u001b[38;5;241m.\u001b[39mstatus_code \u001b[38;5;241m<\u001b[39m \u001b[38;5;241m300\u001b[39m)\n\u001b[1;32m    227\u001b[0m     \u001b[38;5;129;01mand\u001b[39;00m response\u001b[38;5;241m.\u001b[39mstatus_code \u001b[38;5;129;01mnot\u001b[39;00m \u001b[38;5;129;01min\u001b[39;00m ignore\n\u001b[1;32m    228\u001b[0m ):\n\u001b[1;32m    229\u001b[0m     \u001b[38;5;28mself\u001b[39m\u001b[38;5;241m.\u001b[39mlog_request_fail(\n\u001b[1;32m    230\u001b[0m         method,\n\u001b[1;32m    231\u001b[0m         url,\n\u001b[0;32m   (...)\u001b[0m\n\u001b[1;32m    236\u001b[0m         raw_data,\n\u001b[1;32m    237\u001b[0m     )\n\u001b[0;32m--> 238\u001b[0m     \u001b[38;5;28;43mself\u001b[39;49m\u001b[38;5;241;43m.\u001b[39;49m\u001b[43m_raise_error\u001b[49m\u001b[43m(\u001b[49m\n\u001b[1;32m    239\u001b[0m \u001b[43m        \u001b[49m\u001b[43mresponse\u001b[49m\u001b[38;5;241;43m.\u001b[39;49m\u001b[43mstatus_code\u001b[49m\u001b[43m,\u001b[49m\n\u001b[1;32m    240\u001b[0m \u001b[43m        \u001b[49m\u001b[43mraw_data\u001b[49m\u001b[43m,\u001b[49m\n\u001b[1;32m    241\u001b[0m \u001b[43m        \u001b[49m\u001b[43mresponse\u001b[49m\u001b[38;5;241;43m.\u001b[39;49m\u001b[43mheaders\u001b[49m\u001b[38;5;241;43m.\u001b[39;49m\u001b[43mget\u001b[49m\u001b[43m(\u001b[49m\u001b[38;5;124;43m\"\u001b[39;49m\u001b[38;5;124;43mContent-Type\u001b[39;49m\u001b[38;5;124;43m\"\u001b[39;49m\u001b[43m)\u001b[49m\u001b[43m,\u001b[49m\n\u001b[1;32m    242\u001b[0m \u001b[43m    \u001b[49m\u001b[43m)\u001b[49m\n\u001b[1;32m    244\u001b[0m \u001b[38;5;28mself\u001b[39m\u001b[38;5;241m.\u001b[39mlog_request_success(\n\u001b[1;32m    245\u001b[0m     method,\n\u001b[1;32m    246\u001b[0m     url,\n\u001b[0;32m   (...)\u001b[0m\n\u001b[1;32m    251\u001b[0m     duration,\n\u001b[1;32m    252\u001b[0m )\n\u001b[1;32m    254\u001b[0m \u001b[38;5;28;01mreturn\u001b[39;00m response\u001b[38;5;241m.\u001b[39mstatus_code, response\u001b[38;5;241m.\u001b[39mheaders, raw_data\n",
      "File \u001b[0;32m/usr/local/lib/python3.12/site-packages/opensearchpy/connection/base.py:315\u001b[0m, in \u001b[0;36mConnection._raise_error\u001b[0;34m(self, status_code, raw_data, content_type)\u001b[0m\n\u001b[1;32m    312\u001b[0m \u001b[38;5;28;01mexcept\u001b[39;00m (\u001b[38;5;167;01mValueError\u001b[39;00m, \u001b[38;5;167;01mTypeError\u001b[39;00m) \u001b[38;5;28;01mas\u001b[39;00m err:\n\u001b[1;32m    313\u001b[0m     logger\u001b[38;5;241m.\u001b[39mwarning(\u001b[38;5;124m\"\u001b[39m\u001b[38;5;124mUndecodable raw error response from server: \u001b[39m\u001b[38;5;132;01m%s\u001b[39;00m\u001b[38;5;124m\"\u001b[39m, err)\n\u001b[0;32m--> 315\u001b[0m \u001b[38;5;28;01mraise\u001b[39;00m HTTP_EXCEPTIONS\u001b[38;5;241m.\u001b[39mget(status_code, TransportError)(\n\u001b[1;32m    316\u001b[0m     status_code, error_message, additional_info\n\u001b[1;32m    317\u001b[0m )\n",
      "\u001b[0;31mRequestError\u001b[0m: RequestError(400, '{\"error\":{\"root_cause\":[{\"type\":\"null_pointer_exception\",\"reason\":\"Cannot invoke \\\\\"org.opensearch.cluster.ClusterState.blocks()\\\\\" because \\\\\"s')"
     ]
    }
   ],
   "source": [
    "\n",
    "def show_opensearch_doc_info(response):\n",
    "    if not response:\n",
    "        print(\"No document found\")\n",
    "        return\n",
    "        \n",
    "    try:\n",
    "        # OpenSearch 검색 결과 구조에 맞게 수정\n",
    "        doc = response if \"_id\" in response else response[\"_source\"]\n",
    "        \n",
    "        print(\"opensearch document id:\", doc.get(\"_id\", \"N/A\"))\n",
    "        print(\"family_tree:\", doc.get(\"_source\", {}).get(\"metadata\", {}).get(\"family_tree\", \"N/A\"))\n",
    "        print(\"parent document id:\", doc.get(\"_source\", {}).get(\"metadata\", {}).get(\"parent_id\", \"N/A\"))\n",
    "        print(\"parent document text:\\n\", doc.get(\"_source\", {}).get(\"text\", \"N/A\"))\n",
    "    except Exception as e:\n",
    "        print(f\"Error processing document: {str(e)}\")\n",
    "\n",
    "# 사용 예시\n",
    "print(parent_ids[0], index_name)\n",
    "response = opensearch_utils.get_document(os_client, doc_id=parent_ids[0], index_name=index_name)\n",
    "\n",
    "show_opensearch_doc_info(response)"
   ]
  },
  {
   "cell_type": "markdown",
   "id": "cb74fb6a-634b-473c-be68-529d1f2f0b1e",
   "metadata": {},
   "source": [
    "* Child Chunking\n",
    "    - 아래의 create_child_chunk() 는 다음과 같은 작업을 합니다.\n",
    "    - parent_chunk_docs 각각에 대해서 Child Chunk 를 생성 합니다. \n",
    "    - Child Chunk 에 두개의 메타 데이타를 생성 합니다.\n",
    "        - family_tree: child\n",
    "        - parent_id : parent 에 대한 OpenSearch document id"
   ]
  },
  {
   "cell_type": "code",
   "execution_count": 258,
   "id": "e7be16dd-5afa-4934-9825-bf14abb5e153",
   "metadata": {
    "tags": []
   },
   "outputs": [
    {
     "name": "stdout",
     "output_type": "stream",
     "text": [
      "Number of child_chunk_docs= 79\n"
     ]
    }
   ],
   "source": [
    "# child_chunk_docs = create_child_chunk(parent_chunk_docs[0:1], parent_ids)\n",
    "child_chunk_docs = parant_documents.create_child_chunk(\n",
    "    child_chunk_size=child_chunk_size,\n",
    "    child_chunk_overlap=child_chunk_overlap,\n",
    "    docs=parent_chunk_docs,\n",
    "    parent_ids_value=parent_ids,\n",
    "    parent_id_key=opensearch_parent_key_name,\n",
    "    family_tree_id_key=opensearch_family_tree_key_name\n",
    ")\n",
    "\n",
    "print(f\"Number of child_chunk_docs= {len(child_chunk_docs)}\")"
   ]
  },
  {
   "cell_type": "code",
   "execution_count": 259,
   "id": "6983a34b-14f1-4974-ae1e-03ba737505be",
   "metadata": {
    "tags": []
   },
   "outputs": [
    {
     "name": "stderr",
     "output_type": "stream",
     "text": [
      "WARNING:opensearch:GET https://kviqznsn9qgriwrn6wze.ap-northeast-2.aoss.amazonaws.com:443/complex-doc-index/_doc/718f09ce-47a0-4bc1-bb99-6738fa60267a [status:400 request:0.023s]\n",
      "WARNING:opensearch:Undecodable raw error response from server: Unterminated string starting at: line 1 column 67 (char 66)\n"
     ]
    },
    {
     "name": "stdout",
     "output_type": "stream",
     "text": [
      "child's parent_id:  718f09ce-47a0-4bc1-bb99-6738fa60267a\n",
      "\n",
      "###### Search parent in OpenSearch\n"
     ]
    },
    {
     "ename": "RequestError",
     "evalue": "RequestError(400, '{\"error\":{\"root_cause\":[{\"type\":\"null_pointer_exception\",\"reason\":\"Cannot invoke \\\\\"org.opensearch.cluster.ClusterState.blocks()\\\\\" because \\\\\"s')",
     "output_type": "error",
     "traceback": [
      "\u001b[0;31m---------------------------------------------------------------------------\u001b[0m",
      "\u001b[0;31mRequestError\u001b[0m                              Traceback (most recent call last)",
      "Cell \u001b[0;32mIn[259], line 4\u001b[0m\n\u001b[1;32m      2\u001b[0m \u001b[38;5;28mprint\u001b[39m(\u001b[38;5;124m\"\u001b[39m\u001b[38;5;124mchild\u001b[39m\u001b[38;5;124m'\u001b[39m\u001b[38;5;124ms parent_id: \u001b[39m\u001b[38;5;124m\"\u001b[39m, parent_id)\n\u001b[1;32m      3\u001b[0m \u001b[38;5;28mprint\u001b[39m(\u001b[38;5;124m\"\u001b[39m\u001b[38;5;130;01m\\n\u001b[39;00m\u001b[38;5;124m###### Search parent in OpenSearch\u001b[39m\u001b[38;5;124m\"\u001b[39m)\n\u001b[0;32m----> 4\u001b[0m response \u001b[38;5;241m=\u001b[39m \u001b[43mopensearch_utils\u001b[49m\u001b[38;5;241;43m.\u001b[39;49m\u001b[43mget_document\u001b[49m\u001b[43m(\u001b[49m\u001b[43mos_client\u001b[49m\u001b[43m,\u001b[49m\u001b[43m \u001b[49m\u001b[43mdoc_id\u001b[49m\u001b[43m \u001b[49m\u001b[38;5;241;43m=\u001b[39;49m\u001b[43m \u001b[49m\u001b[43mparent_id\u001b[49m\u001b[43m,\u001b[49m\u001b[43m \u001b[49m\u001b[43mindex_name\u001b[49m\u001b[43m \u001b[49m\u001b[38;5;241;43m=\u001b[39;49m\u001b[43m \u001b[49m\u001b[43mindex_name\u001b[49m\u001b[43m)\u001b[49m\n\u001b[1;32m      5\u001b[0m show_opensearch_doc_info(response)    \n",
      "File \u001b[0;32m/app/src/utils/opensearch.py:153\u001b[0m, in \u001b[0;36mopensearch_utils.get_document\u001b[0;34m(cls, os_client, doc_id, index_name)\u001b[0m\n\u001b[1;32m    151\u001b[0m \u001b[38;5;129m@classmethod\u001b[39m\n\u001b[1;32m    152\u001b[0m \u001b[38;5;28;01mdef\u001b[39;00m \u001b[38;5;21mget_document\u001b[39m(\u001b[38;5;28mcls\u001b[39m, os_client, doc_id, index_name):\n\u001b[0;32m--> 153\u001b[0m     response \u001b[38;5;241m=\u001b[39m \u001b[43mos_client\u001b[49m\u001b[38;5;241;43m.\u001b[39;49m\u001b[43mget\u001b[49m\u001b[43m(\u001b[49m\n\u001b[1;32m    154\u001b[0m \u001b[43m        \u001b[49m\u001b[38;5;28;43mid\u001b[39;49m\u001b[38;5;241;43m=\u001b[39;49m\u001b[43m \u001b[49m\u001b[43mdoc_id\u001b[49m\u001b[43m,\u001b[49m\n\u001b[1;32m    155\u001b[0m \u001b[43m        \u001b[49m\u001b[43mindex\u001b[49m\u001b[38;5;241;43m=\u001b[39;49m\u001b[43mindex_name\u001b[49m\n\u001b[1;32m    156\u001b[0m \u001b[43m    \u001b[49m\u001b[43m)\u001b[49m\n\u001b[1;32m    158\u001b[0m     \u001b[38;5;28;01mreturn\u001b[39;00m response\n",
      "File \u001b[0;32m/usr/local/lib/python3.12/site-packages/opensearchpy/client/utils.py:176\u001b[0m, in \u001b[0;36mquery_params.<locals>._wrapper.<locals>._wrapped\u001b[0;34m(*args, **kwargs)\u001b[0m\n\u001b[1;32m    173\u001b[0m         \u001b[38;5;28;01mif\u001b[39;00m v \u001b[38;5;129;01mis\u001b[39;00m \u001b[38;5;129;01mnot\u001b[39;00m \u001b[38;5;28;01mNone\u001b[39;00m:\n\u001b[1;32m    174\u001b[0m             params[p] \u001b[38;5;241m=\u001b[39m _escape(v)\n\u001b[0;32m--> 176\u001b[0m \u001b[38;5;28;01mreturn\u001b[39;00m \u001b[43mfunc\u001b[49m\u001b[43m(\u001b[49m\u001b[38;5;241;43m*\u001b[39;49m\u001b[43margs\u001b[49m\u001b[43m,\u001b[49m\u001b[43m \u001b[49m\u001b[43mparams\u001b[49m\u001b[38;5;241;43m=\u001b[39;49m\u001b[43mparams\u001b[49m\u001b[43m,\u001b[49m\u001b[43m \u001b[49m\u001b[43mheaders\u001b[49m\u001b[38;5;241;43m=\u001b[39;49m\u001b[43mheaders\u001b[49m\u001b[43m,\u001b[49m\u001b[43m \u001b[49m\u001b[38;5;241;43m*\u001b[39;49m\u001b[38;5;241;43m*\u001b[39;49m\u001b[43mkwargs\u001b[49m\u001b[43m)\u001b[49m\n",
      "File \u001b[0;32m/usr/local/lib/python3.12/site-packages/opensearchpy/client/__init__.py:1399\u001b[0m, in \u001b[0;36mOpenSearch.get\u001b[0;34m(self, index, id, params, headers)\u001b[0m\n\u001b[1;32m   1396\u001b[0m     \u001b[38;5;28;01mif\u001b[39;00m param \u001b[38;5;129;01min\u001b[39;00m SKIP_IN_PATH:\n\u001b[1;32m   1397\u001b[0m         \u001b[38;5;28;01mraise\u001b[39;00m \u001b[38;5;167;01mValueError\u001b[39;00m(\u001b[38;5;124m\"\u001b[39m\u001b[38;5;124mEmpty value passed for a required argument.\u001b[39m\u001b[38;5;124m\"\u001b[39m)\n\u001b[0;32m-> 1399\u001b[0m \u001b[38;5;28;01mreturn\u001b[39;00m \u001b[38;5;28;43mself\u001b[39;49m\u001b[38;5;241;43m.\u001b[39;49m\u001b[43mtransport\u001b[49m\u001b[38;5;241;43m.\u001b[39;49m\u001b[43mperform_request\u001b[49m\u001b[43m(\u001b[49m\n\u001b[1;32m   1400\u001b[0m \u001b[43m    \u001b[49m\u001b[38;5;124;43m\"\u001b[39;49m\u001b[38;5;124;43mGET\u001b[39;49m\u001b[38;5;124;43m\"\u001b[39;49m\u001b[43m,\u001b[49m\u001b[43m \u001b[49m\u001b[43m_make_path\u001b[49m\u001b[43m(\u001b[49m\u001b[43mindex\u001b[49m\u001b[43m,\u001b[49m\u001b[43m \u001b[49m\u001b[38;5;124;43m\"\u001b[39;49m\u001b[38;5;124;43m_doc\u001b[39;49m\u001b[38;5;124;43m\"\u001b[39;49m\u001b[43m,\u001b[49m\u001b[43m \u001b[49m\u001b[38;5;28;43mid\u001b[39;49m\u001b[43m)\u001b[49m\u001b[43m,\u001b[49m\u001b[43m \u001b[49m\u001b[43mparams\u001b[49m\u001b[38;5;241;43m=\u001b[39;49m\u001b[43mparams\u001b[49m\u001b[43m,\u001b[49m\u001b[43m \u001b[49m\u001b[43mheaders\u001b[49m\u001b[38;5;241;43m=\u001b[39;49m\u001b[43mheaders\u001b[49m\n\u001b[1;32m   1401\u001b[0m \u001b[43m\u001b[49m\u001b[43m)\u001b[49m\n",
      "File \u001b[0;32m/usr/local/lib/python3.12/site-packages/opensearchpy/transport.py:457\u001b[0m, in \u001b[0;36mTransport.perform_request\u001b[0;34m(self, method, url, params, body, timeout, ignore, headers)\u001b[0m\n\u001b[1;32m    455\u001b[0m             \u001b[38;5;28;01mraise\u001b[39;00m e\n\u001b[1;32m    456\u001b[0m     \u001b[38;5;28;01melse\u001b[39;00m:\n\u001b[0;32m--> 457\u001b[0m         \u001b[38;5;28;01mraise\u001b[39;00m e\n\u001b[1;32m    459\u001b[0m \u001b[38;5;28;01melse\u001b[39;00m:\n\u001b[1;32m    460\u001b[0m     \u001b[38;5;66;03m# connection didn't fail, confirm its live status\u001b[39;00m\n\u001b[1;32m    461\u001b[0m     \u001b[38;5;28mself\u001b[39m\u001b[38;5;241m.\u001b[39mconnection_pool\u001b[38;5;241m.\u001b[39mmark_live(connection)\n",
      "File \u001b[0;32m/usr/local/lib/python3.12/site-packages/opensearchpy/transport.py:418\u001b[0m, in \u001b[0;36mTransport.perform_request\u001b[0;34m(self, method, url, params, body, timeout, ignore, headers)\u001b[0m\n\u001b[1;32m    415\u001b[0m connection \u001b[38;5;241m=\u001b[39m \u001b[38;5;28mself\u001b[39m\u001b[38;5;241m.\u001b[39mget_connection()\n\u001b[1;32m    417\u001b[0m \u001b[38;5;28;01mtry\u001b[39;00m:\n\u001b[0;32m--> 418\u001b[0m     status, headers_response, data \u001b[38;5;241m=\u001b[39m \u001b[43mconnection\u001b[49m\u001b[38;5;241;43m.\u001b[39;49m\u001b[43mperform_request\u001b[49m\u001b[43m(\u001b[49m\n\u001b[1;32m    419\u001b[0m \u001b[43m        \u001b[49m\u001b[43mmethod\u001b[49m\u001b[43m,\u001b[49m\n\u001b[1;32m    420\u001b[0m \u001b[43m        \u001b[49m\u001b[43murl\u001b[49m\u001b[43m,\u001b[49m\n\u001b[1;32m    421\u001b[0m \u001b[43m        \u001b[49m\u001b[43mparams\u001b[49m\u001b[43m,\u001b[49m\n\u001b[1;32m    422\u001b[0m \u001b[43m        \u001b[49m\u001b[43mbody\u001b[49m\u001b[43m,\u001b[49m\n\u001b[1;32m    423\u001b[0m \u001b[43m        \u001b[49m\u001b[43mheaders\u001b[49m\u001b[38;5;241;43m=\u001b[39;49m\u001b[43mheaders\u001b[49m\u001b[43m,\u001b[49m\n\u001b[1;32m    424\u001b[0m \u001b[43m        \u001b[49m\u001b[43mignore\u001b[49m\u001b[38;5;241;43m=\u001b[39;49m\u001b[43mignore\u001b[49m\u001b[43m,\u001b[49m\n\u001b[1;32m    425\u001b[0m \u001b[43m        \u001b[49m\u001b[43mtimeout\u001b[49m\u001b[38;5;241;43m=\u001b[39;49m\u001b[43mtimeout\u001b[49m\u001b[43m,\u001b[49m\n\u001b[1;32m    426\u001b[0m \u001b[43m    \u001b[49m\u001b[43m)\u001b[49m\n\u001b[1;32m    428\u001b[0m     \u001b[38;5;66;03m# Lowercase all the header names for consistency in accessing them.\u001b[39;00m\n\u001b[1;32m    429\u001b[0m     headers_response \u001b[38;5;241m=\u001b[39m {\n\u001b[1;32m    430\u001b[0m         header\u001b[38;5;241m.\u001b[39mlower(): value \u001b[38;5;28;01mfor\u001b[39;00m header, value \u001b[38;5;129;01min\u001b[39;00m headers_response\u001b[38;5;241m.\u001b[39mitems()\n\u001b[1;32m    431\u001b[0m     }\n",
      "File \u001b[0;32m/usr/local/lib/python3.12/site-packages/opensearchpy/connection/http_requests.py:238\u001b[0m, in \u001b[0;36mRequestsHttpConnection.perform_request\u001b[0;34m(self, method, url, params, body, timeout, allow_redirects, ignore, headers)\u001b[0m\n\u001b[1;32m    225\u001b[0m \u001b[38;5;28;01mif\u001b[39;00m (\n\u001b[1;32m    226\u001b[0m     \u001b[38;5;129;01mnot\u001b[39;00m (\u001b[38;5;241m200\u001b[39m \u001b[38;5;241m<\u001b[39m\u001b[38;5;241m=\u001b[39m response\u001b[38;5;241m.\u001b[39mstatus_code \u001b[38;5;241m<\u001b[39m \u001b[38;5;241m300\u001b[39m)\n\u001b[1;32m    227\u001b[0m     \u001b[38;5;129;01mand\u001b[39;00m response\u001b[38;5;241m.\u001b[39mstatus_code \u001b[38;5;129;01mnot\u001b[39;00m \u001b[38;5;129;01min\u001b[39;00m ignore\n\u001b[1;32m    228\u001b[0m ):\n\u001b[1;32m    229\u001b[0m     \u001b[38;5;28mself\u001b[39m\u001b[38;5;241m.\u001b[39mlog_request_fail(\n\u001b[1;32m    230\u001b[0m         method,\n\u001b[1;32m    231\u001b[0m         url,\n\u001b[0;32m   (...)\u001b[0m\n\u001b[1;32m    236\u001b[0m         raw_data,\n\u001b[1;32m    237\u001b[0m     )\n\u001b[0;32m--> 238\u001b[0m     \u001b[38;5;28;43mself\u001b[39;49m\u001b[38;5;241;43m.\u001b[39;49m\u001b[43m_raise_error\u001b[49m\u001b[43m(\u001b[49m\n\u001b[1;32m    239\u001b[0m \u001b[43m        \u001b[49m\u001b[43mresponse\u001b[49m\u001b[38;5;241;43m.\u001b[39;49m\u001b[43mstatus_code\u001b[49m\u001b[43m,\u001b[49m\n\u001b[1;32m    240\u001b[0m \u001b[43m        \u001b[49m\u001b[43mraw_data\u001b[49m\u001b[43m,\u001b[49m\n\u001b[1;32m    241\u001b[0m \u001b[43m        \u001b[49m\u001b[43mresponse\u001b[49m\u001b[38;5;241;43m.\u001b[39;49m\u001b[43mheaders\u001b[49m\u001b[38;5;241;43m.\u001b[39;49m\u001b[43mget\u001b[49m\u001b[43m(\u001b[49m\u001b[38;5;124;43m\"\u001b[39;49m\u001b[38;5;124;43mContent-Type\u001b[39;49m\u001b[38;5;124;43m\"\u001b[39;49m\u001b[43m)\u001b[49m\u001b[43m,\u001b[49m\n\u001b[1;32m    242\u001b[0m \u001b[43m    \u001b[49m\u001b[43m)\u001b[49m\n\u001b[1;32m    244\u001b[0m \u001b[38;5;28mself\u001b[39m\u001b[38;5;241m.\u001b[39mlog_request_success(\n\u001b[1;32m    245\u001b[0m     method,\n\u001b[1;32m    246\u001b[0m     url,\n\u001b[0;32m   (...)\u001b[0m\n\u001b[1;32m    251\u001b[0m     duration,\n\u001b[1;32m    252\u001b[0m )\n\u001b[1;32m    254\u001b[0m \u001b[38;5;28;01mreturn\u001b[39;00m response\u001b[38;5;241m.\u001b[39mstatus_code, response\u001b[38;5;241m.\u001b[39mheaders, raw_data\n",
      "File \u001b[0;32m/usr/local/lib/python3.12/site-packages/opensearchpy/connection/base.py:315\u001b[0m, in \u001b[0;36mConnection._raise_error\u001b[0;34m(self, status_code, raw_data, content_type)\u001b[0m\n\u001b[1;32m    312\u001b[0m \u001b[38;5;28;01mexcept\u001b[39;00m (\u001b[38;5;167;01mValueError\u001b[39;00m, \u001b[38;5;167;01mTypeError\u001b[39;00m) \u001b[38;5;28;01mas\u001b[39;00m err:\n\u001b[1;32m    313\u001b[0m     logger\u001b[38;5;241m.\u001b[39mwarning(\u001b[38;5;124m\"\u001b[39m\u001b[38;5;124mUndecodable raw error response from server: \u001b[39m\u001b[38;5;132;01m%s\u001b[39;00m\u001b[38;5;124m\"\u001b[39m, err)\n\u001b[0;32m--> 315\u001b[0m \u001b[38;5;28;01mraise\u001b[39;00m HTTP_EXCEPTIONS\u001b[38;5;241m.\u001b[39mget(status_code, TransportError)(\n\u001b[1;32m    316\u001b[0m     status_code, error_message, additional_info\n\u001b[1;32m    317\u001b[0m )\n",
      "\u001b[0;31mRequestError\u001b[0m: RequestError(400, '{\"error\":{\"root_cause\":[{\"type\":\"null_pointer_exception\",\"reason\":\"Cannot invoke \\\\\"org.opensearch.cluster.ClusterState.blocks()\\\\\" because \\\\\"s')"
     ]
    }
   ],
   "source": [
    "parent_id = child_chunk_docs[0].metadata[\"parent_id\"]\n",
    "print(\"child's parent_id: \", parent_id)\n",
    "print(\"\\n###### Search parent in OpenSearch\")\n",
    "response = opensearch_utils.get_document(os_client, doc_id = parent_id, index_name = index_name)\n",
    "show_opensearch_doc_info(response)    "
   ]
  },
  {
   "cell_type": "code",
   "execution_count": null,
   "id": "c5e6c9a5-730c-4862-9b33-ea0b31d230d2",
   "metadata": {
    "tags": []
   },
   "outputs": [],
   "source": [
    "child_chunk_docs[0]"
   ]
  },
  {
   "cell_type": "markdown",
   "id": "4d06bc16-aa1f-461b-981a-10b04f731acc",
   "metadata": {},
   "source": [
    "### Manipulate table and image for parent documents\n",
    "- set family_tree of table and image documents as \"parent_table\" and these kinds of types are included in searcable list (child, parent_table and parent_image) in parant document strategy."
   ]
  },
  {
   "cell_type": "code",
   "execution_count": null,
   "id": "3c8773b0-390f-40bd-835b-8b987c67fa0a",
   "metadata": {
    "tags": []
   },
   "outputs": [],
   "source": [
    "for table in tables_preprocessed:\n",
    "    table.metadata[\"family_tree\"], table.metadata[\"parent_id\"] = \"parent_table\", \"NA\""
   ]
  },
  {
   "cell_type": "code",
   "execution_count": null,
   "id": "68476c8b-ca29-4efe-bf7f-138d0a55edf1",
   "metadata": {
    "tags": []
   },
   "outputs": [],
   "source": [
    "for image in images_preprocessed:\n",
    "    image.metadata[\"family_tree\"], image.metadata[\"parent_id\"] = \"parent_image\", \"NA\""
   ]
  },
  {
   "cell_type": "markdown",
   "id": "6b7bb779-1148-441f-adc0-0fc860ae36b5",
   "metadata": {
    "tags": []
   },
   "source": [
    "### Merge text, table and image"
   ]
  },
  {
   "cell_type": "code",
   "execution_count": null,
   "id": "d59e7d39-5aca-429f-998d-70aabad37df8",
   "metadata": {
    "tags": []
   },
   "outputs": [],
   "source": [
    "from itertools import chain"
   ]
  },
  {
   "cell_type": "code",
   "execution_count": null,
   "id": "b90f1822-eadf-4488-92a9-01725df1f2cd",
   "metadata": {
    "tags": []
   },
   "outputs": [],
   "source": [
    "docs_preprocessed = list(chain(child_chunk_docs, tables_preprocessed, images_preprocessed))"
   ]
  },
  {
   "cell_type": "markdown",
   "id": "dc70feee-0e0b-4e74-b65e-099ac0b1dbdd",
   "metadata": {},
   "source": [
    "* Insert doc into OpenSearch"
   ]
  },
  {
   "cell_type": "code",
   "execution_count": null,
   "id": "1d07b977-ce5d-41e4-bfbf-54113fdecb17",
   "metadata": {
    "tags": []
   },
   "outputs": [],
   "source": [
    "%%time\n",
    "\n",
    "child_ids = vector_db.add_documents(\n",
    "    documents=docs_preprocessed, \n",
    "    vector_field = \"vector_field\",\n",
    "    bulk_size=1000000\n",
    ")\n",
    "\n",
    "print(\"length of child_ids: \", len(child_ids))"
   ]
  },
  {
   "cell_type": "markdown",
   "id": "0c4223fa-ca44-4197-a1cd-2a76151df2be",
   "metadata": {},
   "source": [
    "## 6. 검색 테스트"
   ]
  },
  {
   "cell_type": "code",
   "execution_count": null,
   "id": "4fdb6e42-506d-4152-949e-cb9e8abf9b53",
   "metadata": {
    "tags": []
   },
   "outputs": [],
   "source": [
    "from utils.rag import qa_chain\n",
    "from utils.rag import prompt_repo, show_context_used\n",
    "from langchain.callbacks.tracers import ConsoleCallbackHandler\n",
    "from utils.rag import retriever_utils, OpenSearchHybridSearchRetriever"
   ]
  },
  {
   "cell_type": "code",
   "execution_count": null,
   "id": "8421e6fd-6070-4009-8138-59e8331d9946",
   "metadata": {
    "tags": []
   },
   "outputs": [],
   "source": [
    "opensearch_hybrid_retriever = OpenSearchHybridSearchRetriever(\n",
    "    os_client=os_client,\n",
    "    index_name=index_name,\n",
    "    llm_text=llm_text, # llm for query augmentation in both rag_fusion and HyDE\n",
    "    llm_emb=llm_emb, # Used in semantic search based on opensearch \n",
    "\n",
    "    # hybird-search debugger\n",
    "    #hybrid_search_debugger = \"semantic\", #[semantic, lexical, None]\n",
    "    \n",
    "    # option for lexical\n",
    "    minimum_should_match=0,\n",
    "    filter=[],\n",
    "\n",
    "    # option for search\n",
    "    fusion_algorithm=\"RRF\", # [\"RRF\", \"simple_weighted\"], rank fusion 방식 정의\n",
    "    ensemble_weights=[.51, .49], # [for semantic, for lexical], Semantic, Lexical search 결과에 대한 최종 반영 비율 정의\n",
    "    reranker=False, # enable reranker with reranker model\n",
    "    #reranker_endpoint_name=endpoint_name, # endpoint name for reranking model\n",
    "    parent_document=True, # enable parent document\n",
    "    \n",
    "    # option for complex pdf consisting of text, table and image\n",
    "    complex_doc=True,\n",
    "    \n",
    "    # option for async search\n",
    "    async_mode=True,\n",
    "\n",
    "    # option for output\n",
    "    k=7, # 최종 Document 수 정의\n",
    "    verbose=False,\n",
    "\n",
    ")"
   ]
  },
  {
   "cell_type": "markdown",
   "id": "b6c9f5ca-08a2-4656-ba5b-0ead7565182d",
   "metadata": {},
   "source": [
    "### 하이브리드 검색"
   ]
  },
  {
   "cell_type": "code",
   "execution_count": null,
   "id": "0d68740c-2dc3-404c-a2e5-08f2e65481cd",
   "metadata": {
    "tags": []
   },
   "outputs": [],
   "source": [
    "%%time\n",
    "query = \"디지털 성범죄란?\"\n",
    "search_hybrid_result, tables, images = opensearch_hybrid_retriever.invoke(query)"
   ]
  },
  {
   "cell_type": "code",
   "execution_count": null,
   "id": "2ae1553b-2f68-4cc8-940e-75f33fed0b6b",
   "metadata": {
    "tags": []
   },
   "outputs": [],
   "source": [
    "show_context_used(search_hybrid_result)"
   ]
  },
  {
   "cell_type": "code",
   "execution_count": null,
   "id": "4bc828bf-15ae-4fab-98d1-e2e6b6653b4a",
   "metadata": {},
   "outputs": [],
   "source": []
  }
 ],
 "metadata": {
  "kernelspec": {
   "display_name": "Python 3",
   "language": "python",
   "name": "python3"
  },
  "language_info": {
   "codemirror_mode": {
    "name": "ipython",
    "version": 3
   },
   "file_extension": ".py",
   "mimetype": "text/x-python",
   "name": "python",
   "nbconvert_exporter": "python",
   "pygments_lexer": "ipython3",
   "version": "3.12.8"
  }
 },
 "nbformat": 4,
 "nbformat_minor": 5
}
